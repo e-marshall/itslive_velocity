{
 "cells": [
  {
   "cell_type": "markdown",
   "id": "c8fc74be-2451-4108-8cf4-6aac1d3d4ac4",
   "metadata": {},
   "source": [
    "# DEM prep protocol\n",
    "\n",
    "preparing inputs for single glacier processing\n",
    "- running into alignment issues w/ dem even once clipped. need to do smoe more preprocess to get it ready for clipping. want to write out process here so taht it is done identically each time \n",
    "\n",
    "-- the current one for RETREAT should work, so go off of that.... <-- what works for RETREAT doesn't necessarily work for ITSLIVE"
   ]
  },
  {
   "cell_type": "markdown",
   "id": "5a125348-85d7-4d1d-9d13-1930a8fa36fb",
   "metadata": {},
   "source": [
    "## Pre python\n",
    "\n",
    "1. in QGIS, individual NASADEM tiles are mosaicked into one .nc file\n",
    "2. then using gdal commandline tools, project from latlon to local utm\n",
    "3. also using gdal commandline tools, downsample to target spatial resolution (200m for RETREAT, 120, for ITSLIVE)"
   ]
  },
  {
   "cell_type": "markdown",
   "id": "a9695e5f-5775-45d5-a1e3-ef0133afec4b",
   "metadata": {},
   "source": [
    "## RETREAT DEM STEPS \n",
    "\n",
    "1. Read in RGI, UTM grid, NASADEM  \n",
    "2. Subset RGI by NASADEM footprint (made using `retreat_processing_tools.get_footprint()`)  \n",
    "3. Read in RETREAT STAC catalog, passing `dem_bbox` to the bounds arg  \n",
    "4. Compare DEM, RETREAT bounds, slice the DEM to the dims of the RETREAT raster  \n",
    "5. pass these prepared object to the single glacier processing function\n",
    "\n",
    "Can see these steps in `419_retreat_newregion.ipynb`"
   ]
  },
  {
   "cell_type": "markdown",
   "id": "eca2e1be-15fa-4b7d-a404-d72d5b91e757",
   "metadata": {},
   "source": [
    "## 4/25 ITSLIVE DEM STEPS\n",
    "\n",
    "1. read in ind ITSLIVE granule and NASADEM mosaic\n",
    "2. clip ITSLIVE granule to ind glacier outline\n",
    "3. use `.sel( slice(y=...), x=...)` to subset \n",
    "### old ITSLIVE DEM STEPS\n",
    "(more of a pain than RETREAT)  \n",
    "\n",
    "1. for each ITSLIVE granule, read in as `xr.Dataset`, make footprint object and save as shp file\n",
    "2. write .sh file with `gdalwarp` for each granule, clipping the full-size NASADEM down to an ind. granule (`419_its_downsamp_proj_merged_dem.nc`) \n",
    "(still need to do next steps)\n",
    "3. Read in each pre-clipped NASADEM .nc, pass to single glacier clipping function with ITSLIVE granules\n",
    "\n",
    "this is in `424_itslive_newregion_process.ipynb`"
   ]
  },
  {
   "cell_type": "code",
   "execution_count": null,
   "id": "2243532e-4543-494f-bcf2-38c308c7120f",
   "metadata": {},
   "outputs": [],
   "source": []
  }
 ],
 "metadata": {
  "kernelspec": {
   "display_name": "stac_work",
   "language": "python",
   "name": "stac_work"
  },
  "language_info": {
   "codemirror_mode": {
    "name": "ipython",
    "version": 3
   },
   "file_extension": ".py",
   "mimetype": "text/x-python",
   "name": "python",
   "nbconvert_exporter": "python",
   "pygments_lexer": "ipython3",
   "version": "3.11.0"
  }
 },
 "nbformat": 4,
 "nbformat_minor": 5
}
