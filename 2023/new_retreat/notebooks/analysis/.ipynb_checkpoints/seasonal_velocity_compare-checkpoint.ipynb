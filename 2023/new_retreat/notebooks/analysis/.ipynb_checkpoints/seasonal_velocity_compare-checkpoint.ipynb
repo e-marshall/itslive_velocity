{
 "cells": [
  {
   "cell_type": "markdown",
   "id": "70f1e7b5-4847-4a33-aaa1-1ea989135afc",
   "metadata": {},
   "source": [
    "# Velocity product comparison : Seasonal mean velocities by z-quartile\n",
    "\n",
    "Comparing ITS_LIVE, RETREAT velocity products with previous GOLIVE results\n",
    "\n",
    "ITS_LIVE velocities were processed in `itslive_compare_setup.ipynb` and stored in `/cryosphere/emarshall/itslive_results`. RETREAT velocities processed in `notebooks/retreat_workflow_outline.ipynb` and stored in `/cryosphere/emarshall/retreat_results`"
   ]
  },
  {
   "cell_type": "code",
   "execution_count": null,
   "id": "6c5dbb26-163e-43bc-9435-b9489dd821c9",
   "metadata": {},
   "outputs": [],
   "source": []
  },
  {
   "cell_type": "code",
   "execution_count": 1,
   "id": "6c0f07a5-4759-4e70-abaa-3c2f8bac56ce",
   "metadata": {},
   "outputs": [],
   "source": [
    "import os\n",
    "import pandas as pd\n",
    "import geopandas as gpd\n",
    "import xarray as xr\n",
    "import numpy as np\n",
    "from matplotlib import pyplot as plt\n",
    "import seaborn as sns\n",
    "from datatree import DataTree"
   ]
  },
  {
   "cell_type": "code",
   "execution_count": 12,
   "id": "6d7e46ac-3dbe-4f78-9a56-f320b7991cd1",
   "metadata": {},
   "outputs": [],
   "source": [
    "itslive_dir= '/uufs/chpc.utah.edu/common/home/cryosphere/emarshall/itslive_results/prelim_results_itslive_seasonal/'\n",
    "retreat_dir = '/uufs/chpc.utah.edu/common/home/cryosphere/emarshall/retreat_results/prelim_results_retreat_seasonal/'"
   ]
  },
  {
   "cell_type": "code",
   "execution_count": 2,
   "id": "2e278080-b084-4404-96e7-568ef6503b4e",
   "metadata": {},
   "outputs": [],
   "source": [
    "rgi_path = '/uufs/chpc.utah.edu/common/home/u1269862/2023/new_retreat/data/rgi/'"
   ]
  },
  {
   "cell_type": "code",
   "execution_count": 3,
   "id": "c8437de0-8086-4631-95b7-713e3191d48b",
   "metadata": {},
   "outputs": [
    {
     "name": "stderr",
     "output_type": "stream",
     "text": [
      "ERROR 1: PROJ: proj_create_from_database: Open of /uufs/chpc.utah.edu/common/home/u1269862/software/pkg/miniconda3/envs/stac_work/share/proj failed\n"
     ]
    }
   ],
   "source": [
    "rgi15 = gpd.read_file(os.path.join(rgi_path, 'rgi15/15_rgi60_SouthAsiaEast.shp'))"
   ]
  },
  {
   "cell_type": "code",
   "execution_count": 4,
   "id": "3e3d54ba-c2ee-4f70-afd9-a90069ffe18d",
   "metadata": {},
   "outputs": [],
   "source": [
    "rgi15_prj = rgi15.to_crs('EPSG:32645')"
   ]
  },
  {
   "cell_type": "code",
   "execution_count": 5,
   "id": "d0ff7c2d-bd9c-489f-9a39-9356a4f1f38b",
   "metadata": {},
   "outputs": [],
   "source": [
    "rgi_ids = pd.read_csv('/uufs/chpc.utah.edu/common/home/u1269862/2023/new_retreat/data/manuscript_rgi_ids.csv', )\n",
    "\n",
    "lake_ids = ['RGI60-15.10255', 'RGI60-15.10285', 'RGI60-15.10279','RGI60-15.10286',\n",
    "            'RGI60-15.09361','RGI60-15.09483','RGI60-15.10290','RGI60-15.10299']"
   ]
  },
  {
   "cell_type": "code",
   "execution_count": 6,
   "id": "b9625bba-8a69-45cb-9d52-0f837f368c77",
   "metadata": {},
   "outputs": [],
   "source": [
    "rgi_subset = rgi15_prj.loc[rgi15_prj['RGIId'].isin(rgi_ids['RGI_IDs'].to_list())]"
   ]
  },
  {
   "cell_type": "code",
   "execution_count": 7,
   "id": "1e49b0d8-7138-4ba8-8a1d-582c984c28c6",
   "metadata": {},
   "outputs": [],
   "source": [
    "rgi_lakes = rgi_subset.loc[rgi_subset['RGIId'].isin(lake_ids)]\n",
    "rgi_lands = rgi_subset.loc[~rgi_subset['RGIId'].isin(lake_ids)]"
   ]
  },
  {
   "cell_type": "code",
   "execution_count": 8,
   "id": "3e25f8c8-4a0a-477a-acc5-baa73e495a3b",
   "metadata": {},
   "outputs": [],
   "source": [
    "land_ids = rgi_lands['RGIId'].to_list()"
   ]
  },
  {
   "cell_type": "code",
   "execution_count": 9,
   "id": "bda121d8-2478-4278-96bc-e461a9ff6f42",
   "metadata": {},
   "outputs": [
    {
     "data": {
      "text/plain": [
       "['RGI60-15.10255',\n",
       " 'RGI60-15.10285',\n",
       " 'RGI60-15.10279',\n",
       " 'RGI60-15.10286',\n",
       " 'RGI60-15.09361',\n",
       " 'RGI60-15.09483',\n",
       " 'RGI60-15.10290',\n",
       " 'RGI60-15.10299']"
      ]
     },
     "execution_count": 9,
     "metadata": {},
     "output_type": "execute_result"
    }
   ],
   "source": [
    "lake_ids"
   ]
  },
  {
   "cell_type": "code",
   "execution_count": 10,
   "id": "3b28f14c-ef03-41d1-b371-bcbbfe1c9a5f",
   "metadata": {},
   "outputs": [],
   "source": [
    "def read_in_xr_from_list(input_ls, dir_path):\n",
    "    \n",
    "    rgiid_ls, xr_ls = [], []\n",
    "    \n",
    "    for element in input_ls:\n",
    "        \n",
    "        print(element)\n",
    "        rgiid_ls.append(element)\n",
    "        fname = f'ds_{element}.nc'\n",
    "        print(fname)\n",
    "        ds = xr.open_dataset(os.path.join(fname, dir_path))\n",
    "        xr_ls.append(ds)\n",
    "    \n",
    "    return dict(zip(rgiid_ls, xr_ls))\n",
    "    "
   ]
  },
  {
   "cell_type": "code",
   "execution_count": 13,
   "id": "3cb78527-031a-4bf2-8b90-114b12daea30",
   "metadata": {},
   "outputs": [
    {
     "name": "stdout",
     "output_type": "stream",
     "text": [
      "RGI60-15.10255\n",
      "ds_RGI60-15.10255.nc\n"
     ]
    },
    {
     "name": "stderr",
     "output_type": "stream",
     "text": [
      "/uufs/chpc.utah.edu/common/home/u1269862/software/pkg/miniconda3/envs/stac_work/lib/python3.11/site-packages/xarray/backends/plugins.py:139: RuntimeWarning: 'netcdf4' fails while guessing\n",
      "  warnings.warn(f\"{engine!r} fails while guessing\", RuntimeWarning)\n",
      "/uufs/chpc.utah.edu/common/home/u1269862/software/pkg/miniconda3/envs/stac_work/lib/python3.11/site-packages/xarray/backends/plugins.py:139: RuntimeWarning: 'scipy' fails while guessing\n",
      "  warnings.warn(f\"{engine!r} fails while guessing\", RuntimeWarning)\n",
      "/uufs/chpc.utah.edu/common/home/u1269862/software/pkg/miniconda3/envs/stac_work/lib/python3.11/site-packages/xarray/backends/plugins.py:148: RuntimeWarning: 'netcdf4' fails while guessing\n",
      "  warnings.warn(f\"{engine!r} fails while guessing\", RuntimeWarning)\n",
      "/uufs/chpc.utah.edu/common/home/u1269862/software/pkg/miniconda3/envs/stac_work/lib/python3.11/site-packages/xarray/backends/plugins.py:148: RuntimeWarning: 'h5netcdf' fails while guessing\n",
      "  warnings.warn(f\"{engine!r} fails while guessing\", RuntimeWarning)\n",
      "/uufs/chpc.utah.edu/common/home/u1269862/software/pkg/miniconda3/envs/stac_work/lib/python3.11/site-packages/xarray/backends/plugins.py:148: RuntimeWarning: 'scipy' fails while guessing\n",
      "  warnings.warn(f\"{engine!r} fails while guessing\", RuntimeWarning)\n"
     ]
    },
    {
     "ename": "ValueError",
     "evalue": "did not find a match in any of xarray's currently installed IO backends ['netcdf4', 'scipy', 'rasterio', 'zarr']. Consider explicitly selecting one of the installed engines via the ``engine`` parameter, or installing additional IO dependencies, see:\nhttps://docs.xarray.dev/en/stable/getting-started-guide/installing.html\nhttps://docs.xarray.dev/en/stable/user-guide/io.html",
     "output_type": "error",
     "traceback": [
      "\u001b[0;31m---------------------------------------------------------------------------\u001b[0m",
      "\u001b[0;31mValueError\u001b[0m                                Traceback (most recent call last)",
      "Cell \u001b[0;32mIn[13], line 1\u001b[0m\n\u001b[0;32m----> 1\u001b[0m \u001b[43mread_in_xr_from_list\u001b[49m\u001b[43m(\u001b[49m\u001b[43mlake_ids\u001b[49m\u001b[43m,\u001b[49m\u001b[43m \u001b[49m\u001b[43mitslive_dir\u001b[49m\u001b[43m)\u001b[49m\n",
      "Cell \u001b[0;32mIn[10], line 11\u001b[0m, in \u001b[0;36mread_in_xr_from_list\u001b[0;34m(input_ls, dir_path)\u001b[0m\n\u001b[1;32m      9\u001b[0m     fname \u001b[38;5;241m=\u001b[39m \u001b[38;5;124mf\u001b[39m\u001b[38;5;124m'\u001b[39m\u001b[38;5;124mds_\u001b[39m\u001b[38;5;132;01m{\u001b[39;00melement\u001b[38;5;132;01m}\u001b[39;00m\u001b[38;5;124m.nc\u001b[39m\u001b[38;5;124m'\u001b[39m\n\u001b[1;32m     10\u001b[0m     \u001b[38;5;28mprint\u001b[39m(fname)\n\u001b[0;32m---> 11\u001b[0m     ds \u001b[38;5;241m=\u001b[39m \u001b[43mxr\u001b[49m\u001b[38;5;241;43m.\u001b[39;49m\u001b[43mopen_dataset\u001b[49m\u001b[43m(\u001b[49m\u001b[43mos\u001b[49m\u001b[38;5;241;43m.\u001b[39;49m\u001b[43mpath\u001b[49m\u001b[38;5;241;43m.\u001b[39;49m\u001b[43mjoin\u001b[49m\u001b[43m(\u001b[49m\u001b[43mfname\u001b[49m\u001b[43m,\u001b[49m\u001b[43m \u001b[49m\u001b[43mdir_path\u001b[49m\u001b[43m)\u001b[49m\u001b[43m)\u001b[49m\n\u001b[1;32m     12\u001b[0m     xr_ls\u001b[38;5;241m.\u001b[39mappend(ds)\n\u001b[1;32m     14\u001b[0m \u001b[38;5;28;01mreturn\u001b[39;00m \u001b[38;5;28mdict\u001b[39m(\u001b[38;5;28mzip\u001b[39m(rgiid_ls, xr_ls))\n",
      "File \u001b[0;32m~/software/pkg/miniconda3/envs/stac_work/lib/python3.11/site-packages/xarray/backends/api.py:525\u001b[0m, in \u001b[0;36mopen_dataset\u001b[0;34m(filename_or_obj, engine, chunks, cache, decode_cf, mask_and_scale, decode_times, decode_timedelta, use_cftime, concat_characters, decode_coords, drop_variables, inline_array, backend_kwargs, **kwargs)\u001b[0m\n\u001b[1;32m    522\u001b[0m     kwargs\u001b[38;5;241m.\u001b[39mupdate(backend_kwargs)\n\u001b[1;32m    524\u001b[0m \u001b[38;5;28;01mif\u001b[39;00m engine \u001b[38;5;129;01mis\u001b[39;00m \u001b[38;5;28;01mNone\u001b[39;00m:\n\u001b[0;32m--> 525\u001b[0m     engine \u001b[38;5;241m=\u001b[39m \u001b[43mplugins\u001b[49m\u001b[38;5;241;43m.\u001b[39;49m\u001b[43mguess_engine\u001b[49m\u001b[43m(\u001b[49m\u001b[43mfilename_or_obj\u001b[49m\u001b[43m)\u001b[49m\n\u001b[1;32m    527\u001b[0m backend \u001b[38;5;241m=\u001b[39m plugins\u001b[38;5;241m.\u001b[39mget_backend(engine)\n\u001b[1;32m    529\u001b[0m decoders \u001b[38;5;241m=\u001b[39m _resolve_decoders_kwargs(\n\u001b[1;32m    530\u001b[0m     decode_cf,\n\u001b[1;32m    531\u001b[0m     open_backend_dataset_parameters\u001b[38;5;241m=\u001b[39mbackend\u001b[38;5;241m.\u001b[39mopen_dataset_parameters,\n\u001b[0;32m   (...)\u001b[0m\n\u001b[1;32m    537\u001b[0m     decode_coords\u001b[38;5;241m=\u001b[39mdecode_coords,\n\u001b[1;32m    538\u001b[0m )\n",
      "File \u001b[0;32m~/software/pkg/miniconda3/envs/stac_work/lib/python3.11/site-packages/xarray/backends/plugins.py:177\u001b[0m, in \u001b[0;36mguess_engine\u001b[0;34m(store_spec)\u001b[0m\n\u001b[1;32m    169\u001b[0m \u001b[38;5;28;01melse\u001b[39;00m:\n\u001b[1;32m    170\u001b[0m     error_msg \u001b[38;5;241m=\u001b[39m (\n\u001b[1;32m    171\u001b[0m         \u001b[38;5;124m\"\u001b[39m\u001b[38;5;124mfound the following matches with the input file in xarray\u001b[39m\u001b[38;5;124m'\u001b[39m\u001b[38;5;124ms IO \u001b[39m\u001b[38;5;124m\"\u001b[39m\n\u001b[1;32m    172\u001b[0m         \u001b[38;5;124mf\u001b[39m\u001b[38;5;124m\"\u001b[39m\u001b[38;5;124mbackends: \u001b[39m\u001b[38;5;132;01m{\u001b[39;00mcompatible_engines\u001b[38;5;132;01m}\u001b[39;00m\u001b[38;5;124m. But their dependencies may not be installed, see:\u001b[39m\u001b[38;5;130;01m\\n\u001b[39;00m\u001b[38;5;124m\"\u001b[39m\n\u001b[1;32m    173\u001b[0m         \u001b[38;5;124m\"\u001b[39m\u001b[38;5;124mhttps://docs.xarray.dev/en/stable/user-guide/io.html \u001b[39m\u001b[38;5;130;01m\\n\u001b[39;00m\u001b[38;5;124m\"\u001b[39m\n\u001b[1;32m    174\u001b[0m         \u001b[38;5;124m\"\u001b[39m\u001b[38;5;124mhttps://docs.xarray.dev/en/stable/getting-started-guide/installing.html\u001b[39m\u001b[38;5;124m\"\u001b[39m\n\u001b[1;32m    175\u001b[0m     )\n\u001b[0;32m--> 177\u001b[0m \u001b[38;5;28;01mraise\u001b[39;00m \u001b[38;5;167;01mValueError\u001b[39;00m(error_msg)\n",
      "\u001b[0;31mValueError\u001b[0m: did not find a match in any of xarray's currently installed IO backends ['netcdf4', 'scipy', 'rasterio', 'zarr']. Consider explicitly selecting one of the installed engines via the ``engine`` parameter, or installing additional IO dependencies, see:\nhttps://docs.xarray.dev/en/stable/getting-started-guide/installing.html\nhttps://docs.xarray.dev/en/stable/user-guide/io.html"
     ]
    }
   ],
   "source": [
    "read_in_xr_from_list(lake_ids, itslive_dir)"
   ]
  },
  {
   "cell_type": "code",
   "execution_count": 3,
   "id": "0eb7fc4b-35d7-4c97-b5dc-f6052e4359fc",
   "metadata": {},
   "outputs": [],
   "source": [
    "itslive_dir= '/uufs/chpc.utah.edu/common/home/cryosphere/emarshall/itslive_results/prelim_results_itslive_seasonal/'\n",
    "retreat_dir = '/uufs/chpc.utah.edu/common/home/cryosphere/emarshall/retreat_results/prelim_results_retreat_seasonal/'"
   ]
  },
  {
   "cell_type": "code",
   "execution_count": 5,
   "id": "76d77655-e477-425a-9585-002152e20c13",
   "metadata": {},
   "outputs": [],
   "source": [
    "itslive_files = os.listdir(itslive_dir)"
   ]
  },
  {
   "cell_type": "code",
   "execution_count": 7,
   "id": "d2588af5-570e-4c70-a77c-6b9d218929b2",
   "metadata": {},
   "outputs": [],
   "source": [
    "retreat_dir = os.listdir(retreat_dir)"
   ]
  },
  {
   "cell_type": "code",
   "execution_count": 12,
   "id": "88f4bb8b-09f9-4390-bfa3-b0ab91f706d8",
   "metadata": {},
   "outputs": [
    {
     "name": "stdout",
     "output_type": "stream",
     "text": [
      "ds_RGI60-15.10255.nc\n",
      "RGI60-15.10255\n",
      "ds_RGI60-15.10285.nc\n",
      "RGI60-15.10285\n",
      "ds_RGI60-15.10279.nc\n",
      "RGI60-15.10279\n",
      "ds_RGI60-15.10286.nc\n",
      "RGI60-15.10286\n",
      "ds_RGI60-15.09361.nc\n",
      "RGI60-15.09361\n",
      "ds_RGI60-15.09483.nc\n",
      "RGI60-15.09483\n",
      "ds_RGI60-15.10290.nc\n",
      "RGI60-15.10290\n",
      "ds_RGI60-15.10299.nc\n",
      "RGI60-15.10299\n",
      "ds_RGI60-15.03976.nc\n",
      "RGI60-15.03976\n",
      "ds_RGI60-15.04119.nc\n",
      "RGI60-15.04119\n",
      "ds_RGI60-15.04121.nc\n",
      "RGI60-15.04121\n",
      "ds_RGI60-15.04176.nc\n",
      "RGI60-15.04176\n",
      "ds_RGI60-15.04220.nc\n",
      "RGI60-15.04220\n",
      "ds_RGI60-15.09249.nc\n",
      "RGI60-15.09249\n",
      "ds_RGI60-15.09255.nc\n",
      "RGI60-15.09255\n",
      "ds_RGI60-15.09271.nc\n",
      "RGI60-15.09271\n",
      "ds_RGI60-15.09283.nc\n",
      "RGI60-15.09283\n",
      "ds_RGI60-15.09308.nc\n",
      "RGI60-15.09308\n",
      "ds_RGI60-15.09338.nc\n",
      "RGI60-15.09338\n",
      "ds_RGI60-15.09350.nc\n",
      "RGI60-15.09350\n",
      "ds_RGI60-15.09354.nc\n",
      "RGI60-15.09354\n",
      "ds_RGI60-15.09377.nc\n",
      "RGI60-15.09377\n",
      "ds_RGI60-15.09408.nc\n",
      "RGI60-15.09408\n",
      "ds_RGI60-15.09426.nc\n",
      "RGI60-15.09426\n",
      "ds_RGI60-15.09457.nc\n",
      "RGI60-15.09457\n",
      "ds_RGI60-15.09459.nc\n",
      "RGI60-15.09459\n",
      "ds_RGI60-15.09474.nc\n",
      "RGI60-15.09474\n",
      "ds_RGI60-15.09475.nc\n",
      "RGI60-15.09475\n",
      "ds_RGI60-15.09481.nc\n",
      "RGI60-15.09481\n",
      "ds_RGI60-15.09491.nc\n",
      "RGI60-15.09491\n",
      "ds_RGI60-15.09492.nc\n",
      "RGI60-15.09492\n",
      "ds_RGI60-15.09500.nc\n",
      "RGI60-15.09500\n"
     ]
    }
   ],
   "source": [
    "xr_ls = []\n",
    "glacier_id_ls = []\n",
    "for glacier in itslive_files:\n",
    "    \n",
    "    glacier_id = glacier[3:-3]\n",
    "    glacier_id_ls.append(glacier_id)\n",
    "    ds = xr.open_dataset(os.path.join(itslive_dir, glacier))\n",
    "    xr_ls.append(ds)\n",
    "glacier_dict = "
   ]
  },
  {
   "cell_type": "code",
   "execution_count": null,
   "id": "8faedc67-0e04-4749-9841-59713d1079f8",
   "metadata": {},
   "outputs": [],
   "source": []
  }
 ],
 "metadata": {
  "kernelspec": {
   "display_name": "stac_work",
   "language": "python",
   "name": "stac_work"
  },
  "language_info": {
   "codemirror_mode": {
    "name": "ipython",
    "version": 3
   },
   "file_extension": ".py",
   "mimetype": "text/x-python",
   "name": "python",
   "nbconvert_exporter": "python",
   "pygments_lexer": "ipython3",
   "version": "3.11.0"
  }
 },
 "nbformat": 4,
 "nbformat_minor": 5
}
