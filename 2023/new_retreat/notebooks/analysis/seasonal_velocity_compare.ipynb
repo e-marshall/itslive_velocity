{
 "cells": [
  {
   "cell_type": "markdown",
   "id": "70f1e7b5-4847-4a33-aaa1-1ea989135afc",
   "metadata": {},
   "source": [
    "# Velocity product comparison : Seasonal mean velocities by z-quartile\n",
    "\n",
    "Comparing ITS_LIVE, RETREAT velocity products with previous GOLIVE results\n",
    "\n",
    "ITS_LIVE velocities were processed in `itslive_compare_setup.ipynb` and stored in `/cryosphere/emarshall/itslive_results`. RETREAT velocities processed in `notebooks/retreat_workflow_outline.ipynb` and stored in `/cryosphere/emarshall/retreat_results`"
   ]
  },
  {
   "cell_type": "code",
   "execution_count": 58,
   "id": "6c0f07a5-4759-4e70-abaa-3c2f8bac56ce",
   "metadata": {},
   "outputs": [],
   "source": [
    "import os\n",
    "import pandas as pd\n",
    "import geopandas as gpd\n",
    "import xarray as xr\n",
    "import numpy as np\n",
    "from matplotlib import pyplot as plt\n",
    "import seaborn as sns\n",
    "from datatree import DataTree\n",
    "from scipy.stats import sem"
   ]
  },
  {
   "cell_type": "code",
   "execution_count": 59,
   "id": "61dbf911-452e-4746-8d94-ffe78fa5d2cf",
   "metadata": {},
   "outputs": [],
   "source": [
    "import sys\n",
    "sys.path.insert(0, '/uufs/chpc.utah.edu/common/home/u1269862/2023/new_retreat/retreat/')\n",
    "\n",
    "import retreat_tools\n",
    "import itslive_tools\n"
   ]
  },
  {
   "cell_type": "code",
   "execution_count": 60,
   "id": "6d7e46ac-3dbe-4f78-9a56-f320b7991cd1",
   "metadata": {},
   "outputs": [],
   "source": [
    "itslive_dir= '/uufs/chpc.utah.edu/common/home/u1269862/2023/new_retreat/328_results/itslive/'\n",
    "retreat_dir = '/uufs/chpc.utah.edu/common/home/u1269862/2023/new_retreat/328_results/retreat/'"
   ]
  },
  {
   "cell_type": "code",
   "execution_count": 61,
   "id": "2e278080-b084-4404-96e7-568ef6503b4e",
   "metadata": {},
   "outputs": [],
   "source": [
    "rgi_path = '/uufs/chpc.utah.edu/common/home/u1269862/2023/new_retreat/data/rgi/'"
   ]
  },
  {
   "cell_type": "code",
   "execution_count": 62,
   "id": "c8437de0-8086-4631-95b7-713e3191d48b",
   "metadata": {},
   "outputs": [],
   "source": [
    "rgi15 = gpd.read_file(os.path.join(rgi_path, 'rgi15/15_rgi60_SouthAsiaEast.shp'))"
   ]
  },
  {
   "cell_type": "code",
   "execution_count": 63,
   "id": "3e3d54ba-c2ee-4f70-afd9-a90069ffe18d",
   "metadata": {},
   "outputs": [],
   "source": [
    "rgi15_prj = rgi15.to_crs('EPSG:32645')"
   ]
  },
  {
   "cell_type": "code",
   "execution_count": 64,
   "id": "d0ff7c2d-bd9c-489f-9a39-9356a4f1f38b",
   "metadata": {},
   "outputs": [],
   "source": [
    "rgi_ids = pd.read_csv('/uufs/chpc.utah.edu/common/home/u1269862/2023/new_retreat/data/manuscript_rgi_ids.csv', )\n",
    "\n",
    "lake_ids = ['RGI60-15.10255', 'RGI60-15.10285', 'RGI60-15.10279','RGI60-15.10286',\n",
    "            'RGI60-15.09361','RGI60-15.09483','RGI60-15.10290','RGI60-15.10299']"
   ]
  },
  {
   "cell_type": "code",
   "execution_count": 65,
   "id": "b9625bba-8a69-45cb-9d52-0f837f368c77",
   "metadata": {},
   "outputs": [],
   "source": [
    "rgi_subset = rgi15_prj.loc[rgi15_prj['RGIId'].isin(rgi_ids['RGI_IDs'].to_list())]"
   ]
  },
  {
   "cell_type": "code",
   "execution_count": 66,
   "id": "1e49b0d8-7138-4ba8-8a1d-582c984c28c6",
   "metadata": {},
   "outputs": [],
   "source": [
    "rgi_lakes = rgi_subset.loc[rgi_subset['RGIId'].isin(lake_ids)]\n",
    "rgi_lands = rgi_subset.loc[~rgi_subset['RGIId'].isin(lake_ids)]"
   ]
  },
  {
   "cell_type": "code",
   "execution_count": 67,
   "id": "3e25f8c8-4a0a-477a-acc5-baa73e495a3b",
   "metadata": {},
   "outputs": [],
   "source": [
    "land_ids = rgi_lands['RGIId'].to_list()"
   ]
  },
  {
   "cell_type": "code",
   "execution_count": 68,
   "id": "bda121d8-2478-4278-96bc-e461a9ff6f42",
   "metadata": {},
   "outputs": [
    {
     "data": {
      "text/plain": [
       "['RGI60-15.10255',\n",
       " 'RGI60-15.10285',\n",
       " 'RGI60-15.10279',\n",
       " 'RGI60-15.10286',\n",
       " 'RGI60-15.09361',\n",
       " 'RGI60-15.09483',\n",
       " 'RGI60-15.10290',\n",
       " 'RGI60-15.10299']"
      ]
     },
     "execution_count": 68,
     "metadata": {},
     "output_type": "execute_result"
    }
   ],
   "source": [
    "lake_ids"
   ]
  },
  {
   "cell_type": "markdown",
   "id": "feb9cba1-3d2a-4d98-bf92-e9dcea91cf17",
   "metadata": {
    "tags": []
   },
   "source": [
    "## ITSLIVE"
   ]
  },
  {
   "cell_type": "code",
   "execution_count": 122,
   "id": "5209fbfa-dcc7-42b3-8a32-392cce181387",
   "metadata": {},
   "outputs": [],
   "source": [
    "itslive_dfs = os.listdir('/uufs/chpc.utah.edu/common/home/u1269862/2023/new_retreat/328_results/itslive/')"
   ]
  },
  {
   "cell_type": "code",
   "execution_count": 123,
   "id": "3187054d-9845-4d11-91b5-8e1ea668c0f6",
   "metadata": {},
   "outputs": [],
   "source": [
    "df_ls = []\n",
    "for glacier in range(len(itslive_dfs)):\n",
    "    \n",
    "    df = pd.read_csv(os.path.join('/uufs/chpc.utah.edu/common/home/u1269862/2023/new_retreat/328_results/itslive/', itslive_dfs[glacier]))\n",
    "    df_ls.append(df)\n",
    "    \n",
    "itslive_df = pd.concat(df_ls)                  "
   ]
  },
  {
   "cell_type": "code",
   "execution_count": 125,
   "id": "1ecd78d7-a8e5-4771-bca7-67a3f36ffac3",
   "metadata": {},
   "outputs": [
    {
     "data": {
      "text/html": [
       "<div>\n",
       "<style scoped>\n",
       "    .dataframe tbody tr th:only-of-type {\n",
       "        vertical-align: middle;\n",
       "    }\n",
       "\n",
       "    .dataframe tbody tr th {\n",
       "        vertical-align: top;\n",
       "    }\n",
       "\n",
       "    .dataframe thead th {\n",
       "        text-align: right;\n",
       "    }\n",
       "</style>\n",
       "<table border=\"1\" class=\"dataframe\">\n",
       "  <thead>\n",
       "    <tr style=\"text-align: right;\">\n",
       "      <th></th>\n",
       "      <th>Unnamed: 0</th>\n",
       "      <th>RGIId</th>\n",
       "      <th>var</th>\n",
       "      <th>z</th>\n",
       "      <th>winter</th>\n",
       "      <th>spring</th>\n",
       "      <th>summer</th>\n",
       "      <th>fall</th>\n",
       "    </tr>\n",
       "  </thead>\n",
       "  <tbody>\n",
       "    <tr>\n",
       "      <th>0</th>\n",
       "      <td>0</td>\n",
       "      <td>RGI60-15.03976</td>\n",
       "      <td>v</td>\n",
       "      <td>z0</td>\n",
       "      <td>53.015892028808594</td>\n",
       "      <td>45.375518798828125</td>\n",
       "      <td>17.690093994140625</td>\n",
       "      <td>28.27687644958496</td>\n",
       "    </tr>\n",
       "    <tr>\n",
       "      <th>1</th>\n",
       "      <td>0</td>\n",
       "      <td>RGI60-15.03976</td>\n",
       "      <td>v</td>\n",
       "      <td>z1</td>\n",
       "      <td>53.427650451660156</td>\n",
       "      <td>44.834651947021484</td>\n",
       "      <td>27.268951416015625</td>\n",
       "      <td>31.638057708740234</td>\n",
       "    </tr>\n",
       "    <tr>\n",
       "      <th>2</th>\n",
       "      <td>0</td>\n",
       "      <td>RGI60-15.03976</td>\n",
       "      <td>v</td>\n",
       "      <td>z2</td>\n",
       "      <td>63.23894500732422</td>\n",
       "      <td>44.89321517944336</td>\n",
       "      <td>31.1307430267334</td>\n",
       "      <td>31.57982635498047</td>\n",
       "    </tr>\n",
       "    <tr>\n",
       "      <th>3</th>\n",
       "      <td>0</td>\n",
       "      <td>RGI60-15.03976</td>\n",
       "      <td>v</td>\n",
       "      <td>z3</td>\n",
       "      <td>61.09674835205078</td>\n",
       "      <td>47.065521240234375</td>\n",
       "      <td>29.390535354614258</td>\n",
       "      <td>34.04364013671875</td>\n",
       "    </tr>\n",
       "    <tr>\n",
       "      <th>4</th>\n",
       "      <td>0</td>\n",
       "      <td>RGI60-15.03976</td>\n",
       "      <td>v</td>\n",
       "      <td>full</td>\n",
       "      <td>57.64139175415039</td>\n",
       "      <td>45.52740478515625</td>\n",
       "      <td>26.264698028564453</td>\n",
       "      <td>31.380157470703125</td>\n",
       "    </tr>\n",
       "  </tbody>\n",
       "</table>\n",
       "</div>"
      ],
      "text/plain": [
       "   Unnamed: 0           RGIId var     z              winter  \\\n",
       "0           0  RGI60-15.03976   v    z0  53.015892028808594   \n",
       "1           0  RGI60-15.03976   v    z1  53.427650451660156   \n",
       "2           0  RGI60-15.03976   v    z2   63.23894500732422   \n",
       "3           0  RGI60-15.03976   v    z3   61.09674835205078   \n",
       "4           0  RGI60-15.03976   v  full   57.64139175415039   \n",
       "\n",
       "               spring              summer                fall  \n",
       "0  45.375518798828125  17.690093994140625   28.27687644958496  \n",
       "1  44.834651947021484  27.268951416015625  31.638057708740234  \n",
       "2   44.89321517944336    31.1307430267334   31.57982635498047  \n",
       "3  47.065521240234375  29.390535354614258   34.04364013671875  \n",
       "4   45.52740478515625  26.264698028564453  31.380157470703125  "
      ]
     },
     "execution_count": 125,
     "metadata": {},
     "output_type": "execute_result"
    }
   ],
   "source": [
    "itslive_df.head()"
   ]
  },
  {
   "cell_type": "code",
   "execution_count": 128,
   "id": "d2892f65-c66f-4a06-a9c9-7c65170afe73",
   "metadata": {},
   "outputs": [],
   "source": [
    "itslive_lands = itslive_df.loc[itslive_df['RGIId'].isin(land_ids)]\n",
    "itslive_lakes = itslive_df.loc[itslive_df['RGIId'].isin(lake_ids)]"
   ]
  },
  {
   "cell_type": "code",
   "execution_count": 129,
   "id": "b4d5e686-bfaa-4462-970f-580f8cba7530",
   "metadata": {},
   "outputs": [
    {
     "name": "stderr",
     "output_type": "stream",
     "text": [
      "/scratch/local/u1269862/5840598/ipykernel_2719321/675845017.py:1: SettingWithCopyWarning: \n",
      "A value is trying to be set on a copy of a slice from a DataFrame.\n",
      "Try using .loc[row_indexer,col_indexer] = value instead\n",
      "\n",
      "See the caveats in the documentation: https://pandas.pydata.org/pandas-docs/stable/user_guide/indexing.html#returning-a-view-versus-a-copy\n",
      "  itslive_lands['TermType'] = 'land'\n",
      "/scratch/local/u1269862/5840598/ipykernel_2719321/675845017.py:2: SettingWithCopyWarning: \n",
      "A value is trying to be set on a copy of a slice from a DataFrame.\n",
      "Try using .loc[row_indexer,col_indexer] = value instead\n",
      "\n",
      "See the caveats in the documentation: https://pandas.pydata.org/pandas-docs/stable/user_guide/indexing.html#returning-a-view-versus-a-copy\n",
      "  itslive_lakes['TermType'] = 'lake'\n"
     ]
    }
   ],
   "source": [
    "itslive_lands['TermType'] = 'land'\n",
    "itslive_lakes['TermType'] = 'lake'"
   ]
  },
  {
   "cell_type": "code",
   "execution_count": 144,
   "id": "0143dca1-7062-424a-8102-74b4b4ee36bd",
   "metadata": {},
   "outputs": [],
   "source": [
    "itslive_full = pd.concat([itslive_lands, itslive_lakes])"
   ]
  },
  {
   "cell_type": "code",
   "execution_count": 152,
   "id": "404b3aa8-8b31-480f-9a9c-0c9e09b206d7",
   "metadata": {},
   "outputs": [],
   "source": [
    "itslive_full_v = itslive_full.loc[itslive_full['var'] == 'v']"
   ]
  },
  {
   "cell_type": "code",
   "execution_count": 157,
   "id": "e82494b4-bbdd-4132-8dcb-c8066be63ece",
   "metadata": {},
   "outputs": [
    {
     "name": "stderr",
     "output_type": "stream",
     "text": [
      "/scratch/local/u1269862/5840598/ipykernel_2719321/3248980897.py:1: SettingWithCopyWarning: \n",
      "A value is trying to be set on a copy of a slice from a DataFrame.\n",
      "Try using .loc[row_indexer,col_indexer] = value instead\n",
      "\n",
      "See the caveats in the documentation: https://pandas.pydata.org/pandas-docs/stable/user_guide/indexing.html#returning-a-view-versus-a-copy\n",
      "  itslive_full_v['winter'] = pd.to_numeric(itslive_full_v['winter'], errors='coerce')\n",
      "/scratch/local/u1269862/5840598/ipykernel_2719321/3248980897.py:2: SettingWithCopyWarning: \n",
      "A value is trying to be set on a copy of a slice from a DataFrame.\n",
      "Try using .loc[row_indexer,col_indexer] = value instead\n",
      "\n",
      "See the caveats in the documentation: https://pandas.pydata.org/pandas-docs/stable/user_guide/indexing.html#returning-a-view-versus-a-copy\n",
      "  itslive_full_v['spring'] = pd.to_numeric(itslive_full_v['spring'], errors='coerce')\n",
      "/scratch/local/u1269862/5840598/ipykernel_2719321/3248980897.py:3: SettingWithCopyWarning: \n",
      "A value is trying to be set on a copy of a slice from a DataFrame.\n",
      "Try using .loc[row_indexer,col_indexer] = value instead\n",
      "\n",
      "See the caveats in the documentation: https://pandas.pydata.org/pandas-docs/stable/user_guide/indexing.html#returning-a-view-versus-a-copy\n",
      "  itslive_full_v['summer'] = pd.to_numeric(itslive_full_v['summer'], errors='coerce')\n",
      "/scratch/local/u1269862/5840598/ipykernel_2719321/3248980897.py:4: SettingWithCopyWarning: \n",
      "A value is trying to be set on a copy of a slice from a DataFrame.\n",
      "Try using .loc[row_indexer,col_indexer] = value instead\n",
      "\n",
      "See the caveats in the documentation: https://pandas.pydata.org/pandas-docs/stable/user_guide/indexing.html#returning-a-view-versus-a-copy\n",
      "  itslive_full_v['fall'] = pd.to_numeric(itslive_full_v['fall'], errors='coerce')\n"
     ]
    }
   ],
   "source": [
    "itslive_full_v['winter'] = pd.to_numeric(itslive_full_v['winter'], errors='coerce')\n",
    "itslive_full_v['spring'] = pd.to_numeric(itslive_full_v['spring'], errors='coerce')\n",
    "itslive_full_v['summer'] = pd.to_numeric(itslive_full_v['summer'], errors='coerce')\n",
    "itslive_full_v['fall'] = pd.to_numeric(itslive_full_v['fall'], errors='coerce')"
   ]
  },
  {
   "cell_type": "code",
   "execution_count": 162,
   "id": "15cace2b-52b7-432a-b262-57b6fda2389c",
   "metadata": {},
   "outputs": [
    {
     "data": {
      "text/plain": [
       "<AxesSubplot: >"
      ]
     },
     "execution_count": 162,
     "metadata": {},
     "output_type": "execute_result"
    },
    {
     "data": {
      "image/png": "[encoded data removed]",
      "text/plain": [
       "<Figure size 640x480 with 1 Axes>"
      ]
     },
     "metadata": {},
     "output_type": "display_data"
    }
   ],
   "source": [
    "fig, ax = plt.subplots()\n",
    "itslive_full_v.loc[itslive_full_v['TermType'] == 'land'][['winter','spring','summer','fall']].mean().plot(linestyle='None',marker='o', ax=ax)\n",
    "itslive_full_v.loc[itslive_full_v['TermType'] == 'lake'][['winter','spring','summer','fall']].mean().plot(linestyle='None',marker='o', ax=ax)"
   ]
  },
  {
   "cell_type": "code",
   "execution_count": 143,
   "id": "bb531a92-c753-4a10-b19d-574e2bae30f4",
   "metadata": {},
   "outputs": [
    {
     "data": {
      "text/plain": [
       "Unnamed: 0     int64\n",
       "RGIId         object\n",
       "var           object\n",
       "z             object\n",
       "winter        object\n",
       "spring        object\n",
       "summer        object\n",
       "fall          object\n",
       "TermType      object\n",
       "dtype: object"
      ]
     },
     "execution_count": 143,
     "metadata": {},
     "output_type": "execute_result"
    }
   ],
   "source": [
    "\n",
    "itslive_lands.loc[(itslive_lands['var'] == 'v') & (itslive_lands['z'] == 'full')].dtypes\n",
    "\n",
    "itslive_lands [ "
   ]
  },
  {
   "cell_type": "markdown",
   "id": "5231580d-8bbd-4bde-98e2-7631ff858709",
   "metadata": {},
   "source": [
    "## RETREAT"
   ]
  },
  {
   "cell_type": "code",
   "execution_count": 74,
   "id": "4a296e42-0fee-44d8-a7a2-f9e56ddc9b71",
   "metadata": {},
   "outputs": [
    {
     "data": {
      "text/plain": [
       "['df_RGI60-15.03976.csv',\n",
       " 'df_RGI60-15.04121.csv',\n",
       " 'df_RGI60-15.04176.csv',\n",
       " 'df_RGI60-15.04220.csv',\n",
       " 'df_RGI60-15.09271.csv',\n",
       " 'df_RGI60-15.09283.csv',\n",
       " 'df_RGI60-15.09308.csv',\n",
       " 'df_RGI60-15.09338.csv',\n",
       " 'df_RGI60-15.09350.csv',\n",
       " 'df_RGI60-15.09354.csv',\n",
       " 'df_RGI60-15.09361.csv',\n",
       " 'df_RGI60-15.09377.csv',\n",
       " 'df_RGI60-15.09426.csv',\n",
       " 'df_RGI60-15.09457.csv',\n",
       " 'df_RGI60-15.09459.csv',\n",
       " 'df_RGI60-15.09474.csv',\n",
       " 'df_RGI60-15.09475.csv',\n",
       " 'df_RGI60-15.09481.csv',\n",
       " 'df_RGI60-15.09500.csv',\n",
       " 'df_RGI60-15.10255.csv',\n",
       " 'df_RGI60-15.10279.csv',\n",
       " 'df_RGI60-15.10290.csv',\n",
       " 'df_RGI60-15.10299.csv']"
      ]
     },
     "execution_count": 74,
     "metadata": {},
     "output_type": "execute_result"
    }
   ],
   "source": [
    "retreat_dfs = os.listdir('/uufs/chpc.utah.edu/common/home/u1269862/2023/new_retreat/328_results/retreat/')\n",
    "retreat_dfs"
   ]
  },
  {
   "cell_type": "code",
   "execution_count": 84,
   "id": "ddeb764a-783f-4e4d-bf4f-185d6fbf2293",
   "metadata": {},
   "outputs": [],
   "source": [
    "df_ls = []\n",
    "for glacier in range(len(retreat_dfs)):\n",
    "    \n",
    "    df = pd.read_csv(os.path.join('/uufs/chpc.utah.edu/common/home/u1269862/2023/new_retreat/328_results/retreat/', retreat_dfs[glacier]))\n",
    "    df_ls.append(df)\n",
    "    \n",
    "retreat_df = pd.concat(df_ls)                  "
   ]
  },
  {
   "cell_type": "code",
   "execution_count": 78,
   "id": "de46fb05-fefe-4e6f-bc70-e376a41872d2",
   "metadata": {},
   "outputs": [],
   "source": [
    "def fix_sem_units(df, season):\n",
    "    df[f'{season}'] = np.where(df['var'] == 'sem_mag',\n",
    "                                df[f'{season}'] * 365,\n",
    "                                df[f'{season}'])\n",
    "    return df"
   ]
  },
  {
   "cell_type": "code",
   "execution_count": 79,
   "id": "fb6853da-6bb2-4950-92cc-afef1404cb9a",
   "metadata": {},
   "outputs": [],
   "source": [
    "retreat_df = fix_sem_units(retreat_df, 'winter')"
   ]
  },
  {
   "cell_type": "code",
   "execution_count": 80,
   "id": "35fafed4-6d9d-46ce-8788-d6adbcb37d70",
   "metadata": {},
   "outputs": [],
   "source": [
    "retreat_df = fix_sem_units(retreat_df, 'spring')"
   ]
  },
  {
   "cell_type": "code",
   "execution_count": 81,
   "id": "4f4c03b4-3a95-4e71-a035-a285f3701880",
   "metadata": {},
   "outputs": [],
   "source": [
    "retreat_df = fix_sem_units(retreat_df, 'summer')"
   ]
  },
  {
   "cell_type": "code",
   "execution_count": 82,
   "id": "7ec2237b-9d9e-429b-bd8e-8f70a363213b",
   "metadata": {},
   "outputs": [],
   "source": [
    "retreat_df = fix_sem_units(retreat_df, 'fall')"
   ]
  },
  {
   "cell_type": "code",
   "execution_count": 132,
   "id": "e654a867-983f-424d-9063-079838de4077",
   "metadata": {},
   "outputs": [
    {
     "data": {
      "text/html": [
       "<div>\n",
       "<style scoped>\n",
       "    .dataframe tbody tr th:only-of-type {\n",
       "        vertical-align: middle;\n",
       "    }\n",
       "\n",
       "    .dataframe tbody tr th {\n",
       "        vertical-align: top;\n",
       "    }\n",
       "\n",
       "    .dataframe thead th {\n",
       "        text-align: right;\n",
       "    }\n",
       "</style>\n",
       "<table border=\"1\" class=\"dataframe\">\n",
       "  <thead>\n",
       "    <tr style=\"text-align: right;\">\n",
       "      <th></th>\n",
       "      <th>Unnamed: 0</th>\n",
       "      <th>RGIId</th>\n",
       "      <th>var</th>\n",
       "      <th>z</th>\n",
       "      <th>winter</th>\n",
       "      <th>spring</th>\n",
       "      <th>summer</th>\n",
       "      <th>fall</th>\n",
       "    </tr>\n",
       "  </thead>\n",
       "  <tbody>\n",
       "    <tr>\n",
       "      <th>0</th>\n",
       "      <td>0</td>\n",
       "      <td>RGI60-15.03976</td>\n",
       "      <td>dis_mag_my</td>\n",
       "      <td>z0</td>\n",
       "      <td>44.571988</td>\n",
       "      <td>34.096054</td>\n",
       "      <td>52.673718</td>\n",
       "      <td>48.778025</td>\n",
       "    </tr>\n",
       "    <tr>\n",
       "      <th>1</th>\n",
       "      <td>0</td>\n",
       "      <td>RGI60-15.03976</td>\n",
       "      <td>dis_mag_my</td>\n",
       "      <td>z1</td>\n",
       "      <td>45.649950</td>\n",
       "      <td>46.348958</td>\n",
       "      <td>54.207393</td>\n",
       "      <td>48.252066</td>\n",
       "    </tr>\n",
       "    <tr>\n",
       "      <th>2</th>\n",
       "      <td>0</td>\n",
       "      <td>RGI60-15.03976</td>\n",
       "      <td>dis_mag_my</td>\n",
       "      <td>z2</td>\n",
       "      <td>36.301436</td>\n",
       "      <td>24.452490</td>\n",
       "      <td>36.045566</td>\n",
       "      <td>37.807915</td>\n",
       "    </tr>\n",
       "    <tr>\n",
       "      <th>3</th>\n",
       "      <td>0</td>\n",
       "      <td>RGI60-15.03976</td>\n",
       "      <td>dis_mag_my</td>\n",
       "      <td>z3</td>\n",
       "      <td>32.566228</td>\n",
       "      <td>21.172872</td>\n",
       "      <td>22.293335</td>\n",
       "      <td>24.700013</td>\n",
       "    </tr>\n",
       "    <tr>\n",
       "      <th>4</th>\n",
       "      <td>0</td>\n",
       "      <td>RGI60-15.03976</td>\n",
       "      <td>dis_mag_my</td>\n",
       "      <td>full</td>\n",
       "      <td>40.201741</td>\n",
       "      <td>32.252994</td>\n",
       "      <td>42.477440</td>\n",
       "      <td>40.847780</td>\n",
       "    </tr>\n",
       "    <tr>\n",
       "      <th>...</th>\n",
       "      <td>...</td>\n",
       "      <td>...</td>\n",
       "      <td>...</td>\n",
       "      <td>...</td>\n",
       "      <td>...</td>\n",
       "      <td>...</td>\n",
       "      <td>...</td>\n",
       "      <td>...</td>\n",
       "    </tr>\n",
       "    <tr>\n",
       "      <th>5</th>\n",
       "      <td>0</td>\n",
       "      <td>RGI60-15.10299</td>\n",
       "      <td>sem_mag</td>\n",
       "      <td>z0</td>\n",
       "      <td>0.002639</td>\n",
       "      <td>0.003165</td>\n",
       "      <td>0.003332</td>\n",
       "      <td>0.003392</td>\n",
       "    </tr>\n",
       "    <tr>\n",
       "      <th>6</th>\n",
       "      <td>0</td>\n",
       "      <td>RGI60-15.10299</td>\n",
       "      <td>sem_mag</td>\n",
       "      <td>z1</td>\n",
       "      <td>0.005122</td>\n",
       "      <td>0.005123</td>\n",
       "      <td>0.014066</td>\n",
       "      <td>0.005492</td>\n",
       "    </tr>\n",
       "    <tr>\n",
       "      <th>7</th>\n",
       "      <td>0</td>\n",
       "      <td>RGI60-15.10299</td>\n",
       "      <td>sem_mag</td>\n",
       "      <td>z2</td>\n",
       "      <td>0.007202</td>\n",
       "      <td>0.008263</td>\n",
       "      <td>0.004631</td>\n",
       "      <td>0.007521</td>\n",
       "    </tr>\n",
       "    <tr>\n",
       "      <th>8</th>\n",
       "      <td>0</td>\n",
       "      <td>RGI60-15.10299</td>\n",
       "      <td>sem_mag</td>\n",
       "      <td>z3</td>\n",
       "      <td>0.007166</td>\n",
       "      <td>0.005599</td>\n",
       "      <td>0.005406</td>\n",
       "      <td>0.008778</td>\n",
       "    </tr>\n",
       "    <tr>\n",
       "      <th>9</th>\n",
       "      <td>0</td>\n",
       "      <td>RGI60-15.10299</td>\n",
       "      <td>sem_mag</td>\n",
       "      <td>full</td>\n",
       "      <td>1.029326</td>\n",
       "      <td>1.040728</td>\n",
       "      <td>1.380055</td>\n",
       "      <td>1.131639</td>\n",
       "    </tr>\n",
       "  </tbody>\n",
       "</table>\n",
       "<p>230 rows × 8 columns</p>\n",
       "</div>"
      ],
      "text/plain": [
       "    Unnamed: 0           RGIId         var     z     winter     spring  \\\n",
       "0            0  RGI60-15.03976  dis_mag_my    z0  44.571988  34.096054   \n",
       "1            0  RGI60-15.03976  dis_mag_my    z1  45.649950  46.348958   \n",
       "2            0  RGI60-15.03976  dis_mag_my    z2  36.301436  24.452490   \n",
       "3            0  RGI60-15.03976  dis_mag_my    z3  32.566228  21.172872   \n",
       "4            0  RGI60-15.03976  dis_mag_my  full  40.201741  32.252994   \n",
       "..         ...             ...         ...   ...        ...        ...   \n",
       "5            0  RGI60-15.10299     sem_mag    z0   0.002639   0.003165   \n",
       "6            0  RGI60-15.10299     sem_mag    z1   0.005122   0.005123   \n",
       "7            0  RGI60-15.10299     sem_mag    z2   0.007202   0.008263   \n",
       "8            0  RGI60-15.10299     sem_mag    z3   0.007166   0.005599   \n",
       "9            0  RGI60-15.10299     sem_mag  full   1.029326   1.040728   \n",
       "\n",
       "       summer       fall  \n",
       "0   52.673718  48.778025  \n",
       "1   54.207393  48.252066  \n",
       "2   36.045566  37.807915  \n",
       "3   22.293335  24.700013  \n",
       "4   42.477440  40.847780  \n",
       "..        ...        ...  \n",
       "5    0.003332   0.003392  \n",
       "6    0.014066   0.005492  \n",
       "7    0.004631   0.007521  \n",
       "8    0.005406   0.008778  \n",
       "9    1.380055   1.131639  \n",
       "\n",
       "[230 rows x 8 columns]"
      ]
     },
     "execution_count": 132,
     "metadata": {},
     "output_type": "execute_result"
    }
   ],
   "source": [
    "retreat_df"
   ]
  },
  {
   "cell_type": "code",
   "execution_count": 94,
   "id": "39ca6428-de39-45df-bc92-141c8a8570f1",
   "metadata": {},
   "outputs": [],
   "source": [
    "retreat_lands = retreat_df.loc[retreat_df['RGIId'].isin(land_ids)]"
   ]
  },
  {
   "cell_type": "code",
   "execution_count": 95,
   "id": "4d4251ab-c31c-4e2f-a1a8-5d7e9c66f4b9",
   "metadata": {},
   "outputs": [],
   "source": [
    "retreat_lakes = retreat_df.loc[retreat_df['RGIId'].isin(lake_ids)]"
   ]
  },
  {
   "cell_type": "code",
   "execution_count": 96,
   "id": "e8d5feb8-cc16-4b2d-b256-5d709f5f9060",
   "metadata": {},
   "outputs": [
    {
     "name": "stderr",
     "output_type": "stream",
     "text": [
      "/scratch/local/u1269862/5840598/ipykernel_2719321/2707299447.py:1: SettingWithCopyWarning: \n",
      "A value is trying to be set on a copy of a slice from a DataFrame.\n",
      "Try using .loc[row_indexer,col_indexer] = value instead\n",
      "\n",
      "See the caveats in the documentation: https://pandas.pydata.org/pandas-docs/stable/user_guide/indexing.html#returning-a-view-versus-a-copy\n",
      "  retreat_lands['TermType'] = 'land'\n",
      "/scratch/local/u1269862/5840598/ipykernel_2719321/2707299447.py:2: SettingWithCopyWarning: \n",
      "A value is trying to be set on a copy of a slice from a DataFrame.\n",
      "Try using .loc[row_indexer,col_indexer] = value instead\n",
      "\n",
      "See the caveats in the documentation: https://pandas.pydata.org/pandas-docs/stable/user_guide/indexing.html#returning-a-view-versus-a-copy\n",
      "  retreat_lakes['TermType'] = 'lake'\n"
     ]
    }
   ],
   "source": [
    "retreat_lands['TermType'] = 'land'\n",
    "retreat_lakes['TermType'] = 'lake'"
   ]
  },
  {
   "cell_type": "code",
   "execution_count": 98,
   "id": "1076bd64-4a3b-4c5e-8cb1-972afc422e46",
   "metadata": {},
   "outputs": [],
   "source": [
    "retreat_full = pd.concat([retreat_lands, retreat_lakes])"
   ]
  },
  {
   "cell_type": "code",
   "execution_count": 107,
   "id": "87c7a44d-b72a-4f59-89e4-758cfa25fd40",
   "metadata": {},
   "outputs": [
    {
     "data": {
      "text/plain": [
       "<AxesSubplot: >"
      ]
     },
     "execution_count": 107,
     "metadata": {},
     "output_type": "execute_result"
    },
    {
     "data": {
      "image/png": "[encoded data removed]",
      "text/plain": [
       "<Figure size 640x480 with 1 Axes>"
      ]
     },
     "metadata": {},
     "output_type": "display_data"
    }
   ],
   "source": [
    "fig, ax = plt.subplots()\n",
    "retreat_full.loc[(retreat_full['TermType'] == 'land') & (retreat_full['var'] == 'dis_mag_my')][['winter','spring','summer','fall']].mean().plot(ax=ax, linestyle='None', marker='o')\n",
    "retreat_full.loc[(retreat_full['TermType'] == 'lake') & (retreat_full['var'] == 'dis_mag_my')][['winter','spring','summer','fall']].mean().plot(ax=ax, linestyle='None', marker='o')\n"
   ]
  },
  {
   "cell_type": "code",
   "execution_count": 121,
   "id": "6cc3ff7b-17f1-4c9f-9278-511013a32978",
   "metadata": {},
   "outputs": [
    {
     "data": {
      "text/plain": [
       "<AxesSubplot: >"
      ]
     },
     "execution_count": 121,
     "metadata": {},
     "output_type": "execute_result"
    },
    {
     "data": {
      "image/png": "[encoded data removed]",
      "text/plain": [
       "<Figure size 800x600 with 4 Axes>"
      ]
     },
     "metadata": {},
     "output_type": "display_data"
    }
   ],
   "source": [
    "fig, axs = plt.subplots(ncols=2, figsize=(8,6))\n",
    "sns.heatmap(data=retreat_full.loc[(retreat_full['z'] == 'z0') & (retreat_full['TermType'] == 'land') & (retreat_full['var'] == 'dis_mag_my')][['winter','spring','summer','fall']],\n",
    "            ax=axs[0], vmin = 10, vmax=50)\n",
    "sns.heatmap(data=retreat_full.loc[(retreat_full['z'] == 'z0') & (retreat_full['TermType'] == 'lake') & (retreat_full['var'] == 'dis_mag_my')][['winter','spring','summer','fall']],\n",
    "            ax=axs[1], vmin=10, vmax=50)"
   ]
  },
  {
   "cell_type": "code",
   "execution_count": 113,
   "id": "dd4fb5ed-533b-40b9-938c-f588188aa6ee",
   "metadata": {},
   "outputs": [
    {
     "data": {
      "text/html": [
       "<div>\n",
       "<style scoped>\n",
       "    .dataframe tbody tr th:only-of-type {\n",
       "        vertical-align: middle;\n",
       "    }\n",
       "\n",
       "    .dataframe tbody tr th {\n",
       "        vertical-align: top;\n",
       "    }\n",
       "\n",
       "    .dataframe thead th {\n",
       "        text-align: right;\n",
       "    }\n",
       "</style>\n",
       "<table border=\"1\" class=\"dataframe\">\n",
       "  <thead>\n",
       "    <tr style=\"text-align: right;\">\n",
       "      <th></th>\n",
       "      <th>Unnamed: 0</th>\n",
       "      <th>RGIId</th>\n",
       "      <th>var</th>\n",
       "      <th>z</th>\n",
       "      <th>winter</th>\n",
       "      <th>spring</th>\n",
       "      <th>summer</th>\n",
       "      <th>fall</th>\n",
       "      <th>TermType</th>\n",
       "    </tr>\n",
       "  </thead>\n",
       "  <tbody>\n",
       "    <tr>\n",
       "      <th>0</th>\n",
       "      <td>0</td>\n",
       "      <td>RGI60-15.03976</td>\n",
       "      <td>dis_mag_my</td>\n",
       "      <td>z0</td>\n",
       "      <td>44.571988</td>\n",
       "      <td>34.096054</td>\n",
       "      <td>52.673718</td>\n",
       "      <td>48.778025</td>\n",
       "      <td>land</td>\n",
       "    </tr>\n",
       "    <tr>\n",
       "      <th>1</th>\n",
       "      <td>0</td>\n",
       "      <td>RGI60-15.03976</td>\n",
       "      <td>dis_mag_my</td>\n",
       "      <td>z1</td>\n",
       "      <td>45.649950</td>\n",
       "      <td>46.348958</td>\n",
       "      <td>54.207393</td>\n",
       "      <td>48.252066</td>\n",
       "      <td>land</td>\n",
       "    </tr>\n",
       "    <tr>\n",
       "      <th>2</th>\n",
       "      <td>0</td>\n",
       "      <td>RGI60-15.03976</td>\n",
       "      <td>dis_mag_my</td>\n",
       "      <td>z2</td>\n",
       "      <td>36.301436</td>\n",
       "      <td>24.452490</td>\n",
       "      <td>36.045566</td>\n",
       "      <td>37.807915</td>\n",
       "      <td>land</td>\n",
       "    </tr>\n",
       "    <tr>\n",
       "      <th>3</th>\n",
       "      <td>0</td>\n",
       "      <td>RGI60-15.03976</td>\n",
       "      <td>dis_mag_my</td>\n",
       "      <td>z3</td>\n",
       "      <td>32.566228</td>\n",
       "      <td>21.172872</td>\n",
       "      <td>22.293335</td>\n",
       "      <td>24.700013</td>\n",
       "      <td>land</td>\n",
       "    </tr>\n",
       "    <tr>\n",
       "      <th>4</th>\n",
       "      <td>0</td>\n",
       "      <td>RGI60-15.03976</td>\n",
       "      <td>dis_mag_my</td>\n",
       "      <td>full</td>\n",
       "      <td>40.201741</td>\n",
       "      <td>32.252994</td>\n",
       "      <td>42.477440</td>\n",
       "      <td>40.847780</td>\n",
       "      <td>land</td>\n",
       "    </tr>\n",
       "    <tr>\n",
       "      <th>...</th>\n",
       "      <td>...</td>\n",
       "      <td>...</td>\n",
       "      <td>...</td>\n",
       "      <td>...</td>\n",
       "      <td>...</td>\n",
       "      <td>...</td>\n",
       "      <td>...</td>\n",
       "      <td>...</td>\n",
       "      <td>...</td>\n",
       "    </tr>\n",
       "    <tr>\n",
       "      <th>0</th>\n",
       "      <td>0</td>\n",
       "      <td>RGI60-15.09500</td>\n",
       "      <td>dis_mag_my</td>\n",
       "      <td>z0</td>\n",
       "      <td>8.854328</td>\n",
       "      <td>10.876616</td>\n",
       "      <td>13.453496</td>\n",
       "      <td>11.615468</td>\n",
       "      <td>land</td>\n",
       "    </tr>\n",
       "    <tr>\n",
       "      <th>1</th>\n",
       "      <td>0</td>\n",
       "      <td>RGI60-15.09500</td>\n",
       "      <td>dis_mag_my</td>\n",
       "      <td>z1</td>\n",
       "      <td>19.713110</td>\n",
       "      <td>24.372060</td>\n",
       "      <td>24.792940</td>\n",
       "      <td>24.648462</td>\n",
       "      <td>land</td>\n",
       "    </tr>\n",
       "    <tr>\n",
       "      <th>2</th>\n",
       "      <td>0</td>\n",
       "      <td>RGI60-15.09500</td>\n",
       "      <td>dis_mag_my</td>\n",
       "      <td>z2</td>\n",
       "      <td>26.126101</td>\n",
       "      <td>27.995120</td>\n",
       "      <td>29.239946</td>\n",
       "      <td>30.429463</td>\n",
       "      <td>land</td>\n",
       "    </tr>\n",
       "    <tr>\n",
       "      <th>3</th>\n",
       "      <td>0</td>\n",
       "      <td>RGI60-15.09500</td>\n",
       "      <td>dis_mag_my</td>\n",
       "      <td>z3</td>\n",
       "      <td>35.530383</td>\n",
       "      <td>33.727315</td>\n",
       "      <td>37.346356</td>\n",
       "      <td>37.357010</td>\n",
       "      <td>land</td>\n",
       "    </tr>\n",
       "    <tr>\n",
       "      <th>4</th>\n",
       "      <td>0</td>\n",
       "      <td>RGI60-15.09500</td>\n",
       "      <td>dis_mag_my</td>\n",
       "      <td>full</td>\n",
       "      <td>21.797079</td>\n",
       "      <td>23.621446</td>\n",
       "      <td>25.314395</td>\n",
       "      <td>24.690852</td>\n",
       "      <td>land</td>\n",
       "    </tr>\n",
       "  </tbody>\n",
       "</table>\n",
       "<p>90 rows × 9 columns</p>\n",
       "</div>"
      ],
      "text/plain": [
       "    Unnamed: 0           RGIId         var     z     winter     spring  \\\n",
       "0            0  RGI60-15.03976  dis_mag_my    z0  44.571988  34.096054   \n",
       "1            0  RGI60-15.03976  dis_mag_my    z1  45.649950  46.348958   \n",
       "2            0  RGI60-15.03976  dis_mag_my    z2  36.301436  24.452490   \n",
       "3            0  RGI60-15.03976  dis_mag_my    z3  32.566228  21.172872   \n",
       "4            0  RGI60-15.03976  dis_mag_my  full  40.201741  32.252994   \n",
       "..         ...             ...         ...   ...        ...        ...   \n",
       "0            0  RGI60-15.09500  dis_mag_my    z0   8.854328  10.876616   \n",
       "1            0  RGI60-15.09500  dis_mag_my    z1  19.713110  24.372060   \n",
       "2            0  RGI60-15.09500  dis_mag_my    z2  26.126101  27.995120   \n",
       "3            0  RGI60-15.09500  dis_mag_my    z3  35.530383  33.727315   \n",
       "4            0  RGI60-15.09500  dis_mag_my  full  21.797079  23.621446   \n",
       "\n",
       "       summer       fall TermType  \n",
       "0   52.673718  48.778025     land  \n",
       "1   54.207393  48.252066     land  \n",
       "2   36.045566  37.807915     land  \n",
       "3   22.293335  24.700013     land  \n",
       "4   42.477440  40.847780     land  \n",
       "..        ...        ...      ...  \n",
       "0   13.453496  11.615468     land  \n",
       "1   24.792940  24.648462     land  \n",
       "2   29.239946  30.429463     land  \n",
       "3   37.346356  37.357010     land  \n",
       "4   25.314395  24.690852     land  \n",
       "\n",
       "[90 rows x 9 columns]"
      ]
     },
     "execution_count": 113,
     "metadata": {},
     "output_type": "execute_result"
    }
   ],
   "source": [
    "retreat_full.loc[(retreat_full['TermType'] == 'land') & (retreat_full['var'] == 'dis_mag_my')]"
   ]
  },
  {
   "cell_type": "code",
   "execution_count": null,
   "id": "d1554b3b-6e24-457c-b261-965a285acfa6",
   "metadata": {},
   "outputs": [],
   "source": []
  }
 ],
 "metadata": {
  "kernelspec": {
   "display_name": "stac_work",
   "language": "python",
   "name": "stac_work"
  },
  "language_info": {
   "codemirror_mode": {
    "name": "ipython",
    "version": 3
   },
   "file_extension": ".py",
   "mimetype": "text/x-python",
   "name": "python",
   "nbconvert_exporter": "python",
   "pygments_lexer": "ipython3",
   "version": "3.11.0"
  }
 },
 "nbformat": 4,
 "nbformat_minor": 5
}
