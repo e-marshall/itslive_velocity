{
 "cells": [
  {
   "cell_type": "code",
   "execution_count": 1,
   "id": "23d59505-334d-48c0-bf7d-030d4d4efc20",
   "metadata": {},
   "outputs": [],
   "source": [
    "import xarray as xr \n",
    "import numpy as np\n",
    "import pandas as pd\n",
    "import geopandas as gpd \n",
    "import rioxarray as rio\n",
    "import rioxarray.merge as merge\n",
    "import urllib.request\n",
    "import json\n",
    "import os\n",
    "from osgeo import gdal\n",
    "import matplotlib.pyplot as plt\n",
    "from shapely.geometry import Polygon\n",
    "from scipy.stats import sem\n",
    "import scipy"
   ]
  },
  {
   "cell_type": "code",
   "execution_count": 2,
   "id": "3f0d162a-a0e4-4049-aec0-c8b20a2dfa63",
   "metadata": {},
   "outputs": [],
   "source": [
    "import sys\n",
    "sys.path.insert(0, '/uufs/chpc.utah.edu/common/home/u1269862/2023/new_retreat/retreat/')\n",
    "\n",
    "import retreat_tools\n",
    "import itslive_tools\n",
    "import general_tools"
   ]
  },
  {
   "cell_type": "code",
   "execution_count": 3,
   "id": "76c1f20f-ad18-4934-b828-2a8209a90684",
   "metadata": {},
   "outputs": [],
   "source": [
    "dir_path = '/uufs/chpc.utah.edu/common/home/u1269862/2023/new_retreat/itslive_compare/'\n",
    "data_dir = '/uufs/chpc.utah.edu/common/home/u1269862/2023/new_retreat/data/'"
   ]
  },
  {
   "cell_type": "markdown",
   "id": "e488cc27-7fc3-48fa-8d22-668487548fd6",
   "metadata": {},
   "source": [
    "## Aux data"
   ]
  },
  {
   "cell_type": "code",
   "execution_count": 4,
   "id": "cd481d8f-d80d-4db4-b858-1aa8aa2b3d63",
   "metadata": {},
   "outputs": [],
   "source": [
    "#read in setup data\n",
    "utm_grid = gpd.read_file('/uufs/chpc.utah.edu/common/home/u1269862/2023/new_retreat/data/utm/World_UTM_Grid(1).geojson')\n",
    "rgi13 = gpd.read_file(os.path.join(data_dir, 'rgi/rgi13/13_rgi60_CentralAsia.shp'))\n",
    "rgi14 = gpd.read_file(os.path.join(data_dir, 'rgi/rgi14/14_rgi60_SouthAsiaWest.shp'))\n",
    "rgi15 = gpd.read_file(os.path.join(data_dir, 'rgi/rgi15/15_rgi60_SouthAsiaEast.shp'))"
   ]
  },
  {
   "cell_type": "code",
   "execution_count": 5,
   "id": "109a1fa9-9d95-43ab-9de6-1f9f321e0ab8",
   "metadata": {},
   "outputs": [],
   "source": [
    "rgi = pd.concat([rgi13,rgi14,rgi15])\n",
    "rgi = rgi.loc[rgi['Area'] >= 5.]"
   ]
  },
  {
   "cell_type": "code",
   "execution_count": 6,
   "id": "2830367e-81d8-4f19-9550-bed2b6717b51",
   "metadata": {},
   "outputs": [],
   "source": [
    "rgi45 = gpd.sjoin(rgi, utm_grid.loc[utm_grid['ZONE'] == 45], how = 'inner')"
   ]
  },
  {
   "cell_type": "code",
   "execution_count": 7,
   "id": "926cf82d-147f-4790-b6a2-b840aac4953a",
   "metadata": {},
   "outputs": [],
   "source": [
    "rgi45_prj = rgi45.to_crs('EPSG:32645')"
   ]
  },
  {
   "cell_type": "code",
   "execution_count": 8,
   "id": "afc5d59b-8bb8-40b4-b02a-82baaa0a5395",
   "metadata": {},
   "outputs": [],
   "source": [
    "rgi_ids = pd.read_csv('/uufs/chpc.utah.edu/common/home/u1269862/2023/new_retreat/data/manuscript_rgi_ids.csv', )\n",
    "\n",
    "lake_ids = ['RGI60-15.10255', 'RGI60-15.10285', 'RGI60-15.10279','RGI60-15.10286',\n",
    "            'RGI60-15.09361','RGI60-15.09483','RGI60-15.10290','RGI60-15.10299']"
   ]
  },
  {
   "cell_type": "code",
   "execution_count": 9,
   "id": "67868ae4-96b3-4cbd-a430-fcb97d4c3e2b",
   "metadata": {},
   "outputs": [],
   "source": [
    "rgi_ids = rgi_ids['RGI_IDs'].to_list()"
   ]
  },
  {
   "cell_type": "code",
   "execution_count": 10,
   "id": "ed5372b8-8823-40bc-b11e-7db138e2c3dd",
   "metadata": {},
   "outputs": [],
   "source": [
    "rgi45_subset_prj = rgi45_prj.loc[rgi45_prj['RGIId'].isin(rgi_ids)]"
   ]
  },
  {
   "cell_type": "code",
   "execution_count": 89,
   "id": "44df3b1d-91db-4f39-90ed-b3f7bdb54477",
   "metadata": {},
   "outputs": [],
   "source": [
    "rgi_ids = rgi45_subset_prj['RGIId'].to_list()"
   ]
  },
  {
   "cell_type": "code",
   "execution_count": 90,
   "id": "0de5a860-85d0-4369-9b0c-a89c9f6542c9",
   "metadata": {},
   "outputs": [],
   "source": [
    "rgi_lakes_prj = rgi45_subset_prj.loc[rgi45_subset_prj['RGIId'].isin(lake_ids)]"
   ]
  },
  {
   "cell_type": "code",
   "execution_count": 91,
   "id": "b78753c4-a864-4c1b-bb8b-25d3ea1ed0c5",
   "metadata": {},
   "outputs": [],
   "source": [
    "rgi_lands_prj = rgi45_subset_prj.loc[~rgi45_subset_prj['RGIId'].isin(lake_ids)]"
   ]
  },
  {
   "cell_type": "code",
   "execution_count": 92,
   "id": "b1dbbed8-9f97-4500-ba7f-a93be6565fd9",
   "metadata": {},
   "outputs": [],
   "source": [
    "land_ids = rgi_lands_prj['RGIId'].to_list()"
   ]
  },
  {
   "cell_type": "markdown",
   "id": "765705b1-da71-4243-8ca9-643dce34dc81",
   "metadata": {},
   "source": [
    "### NASADEM"
   ]
  },
  {
   "cell_type": "code",
   "execution_count": 93,
   "id": "fd5b6090-a9e5-4342-90f0-e29dd94ead81",
   "metadata": {},
   "outputs": [],
   "source": [
    "nasadem_dir = '/uufs/chpc.utah.edu/common/home/u1269862/2023/new_retreat/data/nasadem/'"
   ]
  },
  {
   "cell_type": "code",
   "execution_count": 94,
   "id": "c6370253-055a-4b17-a841-3795a1fb650e",
   "metadata": {},
   "outputs": [],
   "source": [
    "nasadem = xr.open_dataset(os.path.join(nasadem_dir,  'NASADEM_NC_n28e085.nc'))"
   ]
  },
  {
   "cell_type": "code",
   "execution_count": 95,
   "id": "bd5531ea-1892-4d7b-8b62-351823b5dfb2",
   "metadata": {},
   "outputs": [],
   "source": [
    "nasadem = nasadem.rio.write_crs('EPSG:4326')"
   ]
  },
  {
   "cell_type": "code",
   "execution_count": 96,
   "id": "49570af4-af96-4fde-9c9e-dbef242dbc3b",
   "metadata": {},
   "outputs": [],
   "source": [
    "nasadem_prj = nasadem.rio.reproject('EPSG:32645')"
   ]
  },
  {
   "cell_type": "markdown",
   "id": "42797c16-8469-40fc-96b3-54271eb8e8da",
   "metadata": {},
   "source": [
    "## ITSLIVE data"
   ]
  },
  {
   "cell_type": "code",
   "execution_count": 97,
   "id": "350e1c56-ab5f-432b-b35c-f0ae356b6af3",
   "metadata": {},
   "outputs": [
    {
     "data": {
      "text/plain": [
       "dict_keys(['type', 'features'])"
      ]
     },
     "execution_count": 97,
     "metadata": {},
     "output_type": "execute_result"
    }
   ],
   "source": [
    "import urllib.request\n",
    "with urllib.request.urlopen('https://its-live-data.s3.amazonaws.com/datacubes/catalog_v02.json') as url:\n",
    "    itslive_catalog_d = json.loads(url.read().decode())\n",
    "itslive_catalog_d.keys()"
   ]
  },
  {
   "cell_type": "code",
   "execution_count": 98,
   "id": "c6395505-9004-4923-ac37-fa2bb0417ec2",
   "metadata": {},
   "outputs": [],
   "source": [
    "s3_url = itslive_tools.find_granule_by_point(itslive_catalog_d, [85.694, 28.41])"
   ]
  },
  {
   "cell_type": "code",
   "execution_count": 99,
   "id": "15e5e810-fdc3-4499-92ac-c597ef6062f5",
   "metadata": {},
   "outputs": [],
   "source": [
    "itslive = itslive_tools.read_in_s3(s3_url[0])"
   ]
  },
  {
   "cell_type": "code",
   "execution_count": 100,
   "id": "bf1f559a-1d19-4a57-ae3d-4d7a0e59124b",
   "metadata": {},
   "outputs": [
    {
     "data": {
      "text/plain": [
       "CRS.from_epsg(32645)"
      ]
     },
     "execution_count": 100,
     "metadata": {},
     "output_type": "execute_result"
    }
   ],
   "source": [
    "itslive.rio.crs"
   ]
  },
  {
   "cell_type": "markdown",
   "id": "26a7131e-0850-4fc7-b876-e9c3790d2bff",
   "metadata": {},
   "source": [
    "## Processing fns"
   ]
  },
  {
   "cell_type": "code",
   "execution_count": 101,
   "id": "01e0e75e-631b-439d-8e6e-a9e0880c7d15",
   "metadata": {},
   "outputs": [],
   "source": [
    "def velocity_clip(ds, rgi):\n",
    "    '''could be velocity or dem raster'''\n",
    "    \n",
    "    ds_clip = ds.rio.clip(rgi.geometry, rgi.crs)\n",
    "    print('velocity clipped')\n",
    "    return ds_clip"
   ]
  },
  {
   "cell_type": "code",
   "execution_count": 102,
   "id": "37a6406c-fabc-48a0-80db-dcf5af8663bd",
   "metadata": {},
   "outputs": [],
   "source": [
    "def calc_cov(ds_clip, threshold):\n",
    "    \n",
    "    #calc cov\n",
    "    valid_pixels = ds_clip.v.count(dim=['x','y'])\n",
    "    valid_pixels_max = ds_clip.v.notnull().any('mid_date').sum(['x','y'])\n",
    "    #add cov as var\n",
    "    ds_clip['cov'] = valid_pixels / valid_pixels_max\n",
    "    #subset by cov threshold\n",
    "    ds_clip = ds_clip.where(ds_clip.cov >= threshold, drop=True)\n",
    "    print('cov calculated')\n",
    "    return ds_clip"
   ]
  },
  {
   "cell_type": "code",
   "execution_count": 103,
   "id": "b311db5b-9303-4c1c-a3c8-e7786b28f3fe",
   "metadata": {},
   "outputs": [],
   "source": [
    "def dem_prep(dem_ds, rgi, velocity_clip):\n",
    "    #clip dem\n",
    "    dem_clip = dem_ds.rio.clip(rgi.geometry, rgi.crs)\n",
    "    #downsample to resolution of velocity raster\n",
    "    dem_downsamp = dem_clip.interp_like(velocity_clip, method = 'nearest')\n",
    "    #add dem as var to velocity raster\n",
    "    velocity_clip['z'] = dem_downsamp.NASADEM_HGT\n",
    "    print('dem prepped')\n",
    "    return velocity_clip, dem_downsamp"
   ]
  },
  {
   "cell_type": "code",
   "execution_count": 104,
   "id": "83911fbd-eee7-4a30-9f75-816de78b87ff",
   "metadata": {},
   "outputs": [],
   "source": [
    "def z_quartiles_format(itslive_clip, dem_downsamp):\n",
    "    \n",
    "    zmin = np.nanmin(dem_downsamp.NASADEM_HGT.data)\n",
    "    zq1 = np.nanpercentile(dem_downsamp.NASADEM_HGT.data, 25)\n",
    "    zmed = np.nanmedian(dem_downsamp.NASADEM_HGT.data)\n",
    "    zq3 = np.nanpercentile(dem_downsamp.NASADEM_HGT.data, 75)\n",
    "    zmax = np.nanmax(dem_downsamp.NASADEM_HGT.data)\n",
    "    \n",
    "    z0 = dem_downsamp.NASADEM_HGT.where(np.logical_and(dem_downsamp.NASADEM_HGT >= zmin, dem_downsamp.NASADEM_HGT <= zq1), drop=True)\n",
    "    z1 = dem_downsamp.NASADEM_HGT.where(np.logical_and(dem_downsamp.NASADEM_HGT >= zq1, dem_downsamp.NASADEM_HGT <= zmed), drop=True)\n",
    "    z2 = dem_downsamp.NASADEM_HGT.where(np.logical_and(dem_downsamp.NASADEM_HGT >= zmed, dem_downsamp.NASADEM_HGT <= zq3), drop=True)\n",
    "    z3 = dem_downsamp.NASADEM_HGT.where(np.logical_and(dem_downsamp.NASADEM_HGT >= zq3, dem_downsamp.NASADEM_HGT <= zmax), drop=True)\n",
    "    print('added z quartiles')\n",
    "\n",
    "    itslive_clip['z0'] = z0\n",
    "    itslive_clip['z1'] = z1\n",
    "    itslive_clip['z2'] = z2\n",
    "    itslive_clip['z3'] = z3\n",
    "    \n",
    "    z0_cond_min = itslive_clip.z0.min().data >= zmin\n",
    "    z0_cond_max = itslive_clip.z0.max().data < zq1+1\n",
    "    z1_cond_min = itslive_clip.z1.min().data >= zq1\n",
    "    z1_cond_max = itslive_clip.z1.max().data <zmed + 1\n",
    "    z2_cond_min = itslive_clip.z2.min().data >= zmed\n",
    "    z2_cond_max = itslive_clip.z2.max().data < zq3 + 1\n",
    "    z3_cond_min = itslive_clip.z3.min().data >= zq3\n",
    "    z3_cond_max = itslive_clip.z3.max().data < zmax+1\n",
    "    \n",
    "    cond_ls = [z0_cond_min, z0_cond_max, z1_cond_min, z1_cond_max,\n",
    "               z2_cond_min, z2_cond_max, z3_cond_min, z3_cond_max]\n",
    "    \n",
    "    test = all(i for i in cond_ls)\n",
    "    \n",
    "    if test != True:\n",
    "        \n",
    "        print('there is an elevation masking issue here')\n",
    "        \n",
    "    else:\n",
    "        print('z quartiles done')\n",
    "    \n",
    "        return itslive_clip\n",
    "    \n",
    "    \n",
    "    "
   ]
  },
  {
   "cell_type": "code",
   "execution_count": 105,
   "id": "024fdf2d-0bde-4a0a-9165-21c0dbb1acee",
   "metadata": {},
   "outputs": [],
   "source": [
    "def calc_sem(itslive_clip):\n",
    "    #retreat_clip_ds['sem_mag'] = retreat_clip_ds.dis_mag_my.stack(xy=('x','y')).reduce(scipy.stats.sem, dim='xy', nan_policy='omit')\n",
    "\n",
    "    \n",
    "    itslive_clip['sem_v'] = itslive_clip.v.stack(xy=('x','y')).reduce(scipy.stats.sem, dim='xy', nan_policy='omit')\n",
    "    itslive_clip['z0_sem'] = itslive_clip.where(itslive_clip['z0'].notnull(), drop=True).v.stack(xy=('x','y')).reduce(scipy.stats.sem, dim='xy', nan_policy='omit')\n",
    "    itslive_clip['z1_sem'] = itslive_clip.where(itslive_clip['z1'].notnull(), drop=True).v.stack(xy=('x','y')).reduce(scipy.stats.sem, dim='xy', nan_policy='omit')\n",
    "    itslive_clip['z2_sem'] = itslive_clip.where(itslive_clip['z2'].notnull(), drop=True).v.stack(xy=('x','y')).reduce(scipy.stats.sem, dim='xy', nan_policy='omit')\n",
    "    itslive_clip['z3_sem'] = itslive_clip.where(itslive_clip['z3'].notnull(), drop=True).v.stack(xy=('x','y')).reduce(scipy.stats.sem, dim='xy', nan_policy='omit')\n",
    "    \n",
    "    print('sem calculated')\n",
    "    return itslive_clip\n",
    "    "
   ]
  },
  {
   "cell_type": "code",
   "execution_count": 106,
   "id": "c26b2d15-3865-443c-8127-e122b949bb40",
   "metadata": {},
   "outputs": [],
   "source": [
    "def single_glacier_prep(rgi_id, rgi_full, itslive_xr, dem_xr, output = 'seasonal'): #all in local utm\n",
    "    \n",
    "    rgi_single = rgi_full.loc[rgi_full['RGIId'] == rgi_id]\n",
    "    \n",
    "    itslive_clip = velocity_clip(itslive_xr, rgi_single)\n",
    "    \n",
    "    itslive_clip = calc_cov(itslive_clip, 0.5)\n",
    "    \n",
    "    itslive_clip, dem_clip = dem_prep(nasadem_prj, rgi_single, itslive_clip)\n",
    "    \n",
    "    itslive_clip = z_quartiles_format(itslive_clip, dem_clip)\n",
    "    \n",
    "    itslive_clip = calc_sem(itslive_clip)\n",
    "    \n",
    "    if output == 'full':\n",
    "        \n",
    "        return itslive_clip\n",
    "    \n",
    "    elif output == 'seasonal':\n",
    "        #remove any time steps where img 1 and img 2 span multiple seasons\n",
    "        itslive_clip = itslive_clip.where(itslive_clip.acquisition_date_img1.dt.season == itslive_clip.acquisition_date_img2.dt.season, drop=True)\n",
    "    \n",
    "        itslive_clip_gb = itslive_clip.groupby(itslive_clip.mid_date.dt.season).mean()\n",
    "    \n",
    "        print(rgi_id)\n",
    "        return itslive_clip_gb\n",
    "    \n",
    "    \n",
    "    "
   ]
  },
  {
   "cell_type": "code",
   "execution_count": 68,
   "id": "4820b9a0-af49-4ab3-bbc1-56b0a570ed1b",
   "metadata": {},
   "outputs": [],
   "source": [
    "rgi_test = rgi_lakes_prj.loc[rgi_lakes_prj['RGIId'] == 'RGI60-15.10255']"
   ]
  },
  {
   "cell_type": "code",
   "execution_count": 69,
   "id": "34718c77-5840-41ef-ae11-45053d9bca9f",
   "metadata": {},
   "outputs": [
    {
     "name": "stdout",
     "output_type": "stream",
     "text": [
      "velocity clipped\n"
     ]
    }
   ],
   "source": [
    "test = velocity_clip(itslive, rgi_test)"
   ]
  },
  {
   "cell_type": "code",
   "execution_count": 70,
   "id": "c8fb68ac-716c-46bc-a228-fb923d838431",
   "metadata": {},
   "outputs": [
    {
     "name": "stdout",
     "output_type": "stream",
     "text": [
      "cov calculated\n"
     ]
    }
   ],
   "source": [
    "test = calc_cov(test, 0.5)"
   ]
  },
  {
   "cell_type": "code",
   "execution_count": 71,
   "id": "4573bebb-be9e-4ee0-a34d-aeaba478dd76",
   "metadata": {},
   "outputs": [
    {
     "name": "stdout",
     "output_type": "stream",
     "text": [
      "dem prepped\n"
     ]
    }
   ],
   "source": [
    "test_its, test_dem = dem_prep(nasadem_prj, rgi_test, test)"
   ]
  },
  {
   "cell_type": "code",
   "execution_count": 78,
   "id": "fec2dea9-1bf5-4dd1-bf39-65867ea76ab6",
   "metadata": {},
   "outputs": [
    {
     "name": "stdout",
     "output_type": "stream",
     "text": [
      "added z quartiles\n",
      "z quartiles done\n"
     ]
    }
   ],
   "source": [
    "test_its = z_quartiles_format(test_its, test_dem)"
   ]
  },
  {
   "cell_type": "code",
   "execution_count": 83,
   "id": "0c0c92a2-35b5-4821-af1c-b359e30bab45",
   "metadata": {},
   "outputs": [
    {
     "name": "stdout",
     "output_type": "stream",
     "text": [
      "sem calculated\n"
     ]
    }
   ],
   "source": [
    "test_its = calc_sem(test_its)"
   ]
  },
  {
   "cell_type": "code",
   "execution_count": 88,
   "id": "bd83dc0f-c374-4eaa-973a-f01bb9eb500f",
   "metadata": {},
   "outputs": [
    {
     "name": "stdout",
     "output_type": "stream",
     "text": [
      "velocity clipped\n",
      "cov calculated\n",
      "dem prepped\n",
      "added z quartiles\n",
      "z quartiles done\n",
      "sem calculated\n"
     ]
    }
   ],
   "source": [
    "ds_10255 = single_glacier_prep('RGI60-15.10255', rgi_lakes_prj, itslive, nasadem_prj, 'full')"
   ]
  },
  {
   "cell_type": "code",
   "execution_count": 24,
   "id": "b020a962-e822-4a08-8962-666863af8b84",
   "metadata": {},
   "outputs": [],
   "source": [
    "def clip_glacier_add_dem(rgi_id, rgi_full, itslive_xr, dem_xr, output = 'seasonal'): #all in local utm\n",
    "    '''this function is the processing step to go from a full itslive granule to the extent of a single glacier and add NASADEM to itslive xr object. Currently oriented toward seasonal analysis, could change. \n",
    "    inputs are: RGIId, rgi geodataframe, itslive xr object, nasadem xr object\n",
    "    Steps are:\n",
    "    1. clip itslive granule by glacier outline (or centerline)\n",
    "    2. calc + add 'coverage' variable to xr.dataset\n",
    "    3. subset dataset, removing time steps where cov < 0.5\n",
    "    5. drop time steps where img1 and img2 are not in the same season (change this if using for full time series, not seasonal means)\n",
    "    6. clip NASASDEM to extent of single glacier\n",
    "    7. downsample to match itslive resolution\n",
    "    8. add z as var to xr object\n",
    "    9. calculate elevation quartiles and add them as variables (z0,z1,z2,z3)\n",
    "    '''\n",
    "    print('rgi ID: ', rgi_id)\n",
    "    rgi_single = rgi_full.loc[rgi_full['RGIId'] == rgi_id]\n",
    "    #print(rgi_single['RGIId'])\n",
    "    \n",
    "    itslive_clip = itslive_xr.rio.clip(rgi_single.geometry, rgi_single.crs)\n",
    "    \n",
    "    valid_pixels = itslive_clip.v.count(dim=['x','y'])\n",
    "    valid_pixels_max = itslive_clip.v.notnull().any('mid_date').sum(['x','y'])\n",
    "    itslive_clip['cov'] = valid_pixels / valid_pixels_max\n",
    "    itslive_clip = itslive_clip.where(itslive_clip.cov >= 0.5, drop=True)\n",
    "    print('done with cov')\n",
    "    dem_clip = dem_xr.rio.clip(rgi_single.geometry, rgi_single.crs)\n",
    "    \n",
    "    dem_downsamp = dem_clip.interp_like(itslive_clip, method='nearest')\n",
    "    \n",
    "    itslive_clip['z'] = dem_downsamp.NASADEM_HGT\n",
    "    print('added z')\n",
    "    zmin = np.nanmin(dem_downsamp.NASADEM_HGT.data)\n",
    "    zq1 = np.nanpercentile(dem_downsamp.NASADEM_HGT.data, 25)\n",
    "    zmed = np.nanmedian(dem_downsamp.NASADEM_HGT.data)\n",
    "    zq3 = np.nanpercentile(dem_downsamp.NASADEM_HGT.data, 75)\n",
    "    zmax = np.nanmax(dem_downsamp.NASADEM_HGT.data)\n",
    "\n",
    "    z0 = dem_downsamp.NASADEM_HGT.where(np.logical_and(dem_downsamp.NASADEM_HGT >= zmin, dem_downsamp.NASADEM_HGT <= zq1), drop=True)\n",
    "    z1 = dem_downsamp.NASADEM_HGT.where(np.logical_and(dem_downsamp.NASADEM_HGT >= zq1, dem_downsamp.NASADEM_HGT <= zmed), drop=True)\n",
    "    z2 = dem_downsamp.NASADEM_HGT.where(np.logical_and(dem_downsamp.NASADEM_HGT >= zmed, dem_downsamp.NASADEM_HGT <= zq3), drop=True)\n",
    "    z3 = dem_downsamp.NASADEM_HGT.where(np.logical_and(dem_downsamp.NASADEM_HGT >= zq3, dem_downsamp.NASADEM_HGT <= zmax), drop=True)\n",
    "    print('added z quartiles')\n",
    "    itslive_clip['sem_v'] = (('mid_date'), [calc_sem(itslive_clip.isel(mid_date=t).v.data) for t in range(len(itslive_clip.mid_date))])\n",
    "    print('calculated sem')\n",
    "\n",
    "    itslive_clip['z0'] = z0\n",
    "    itslive_clip['z1'] = z1\n",
    "    itslive_clip['z2'] = z2\n",
    "    itslive_clip['z3'] = z3\n",
    "    \n",
    "    z0_cond_min = itslive_clip.z0.min().data >= zmin\n",
    "    z0_cond_max = itslive_clip.z0.max().data < zq1+1\n",
    "    z1_cond_min = itslive_clip.z1.min().data >= zq1\n",
    "    z1_cond_max = itslive_clip.z1.max().data <zmed + 1\n",
    "    z2_cond_min = itslive_clip.z2.min().data >= zmed\n",
    "    z2_cond_max = itslive_clip.z2.max().data < zq3 + 1\n",
    "    z3_cond_min = itslive_clip.z3.min().data >= zq3\n",
    "    z3_cond_max = itslive_clip.z3.max().data < zmax+1\n",
    "    \n",
    "    cond_ls = [z0_cond_min, z0_cond_max, z1_cond_min, z1_cond_max,\n",
    "               z2_cond_min, z2_cond_max, z3_cond_min, z3_cond_max]\n",
    "    \n",
    "    test = all(i for i in cond_ls)\n",
    "    \n",
    "    itslive_clip['z0_sem'] = itslive_clip.where(itslive_clip['z0'].notnull(), drop=True).v.stack(xy=('x','y')).reduce(scipy.stats.sem, dim='xy', nan_policy='omit')\n",
    "    itslive_clip['z1_sem'] = itslive_clip.where(itslive_clip['z1'].notnull(), drop=True).v.stack(xy=('x','y')).reduce(scipy.stats.sem, dim='xy', nan_policy='omit')\n",
    "    itslive_clip['z2_sem'] = itslive_clip.where(itslive_clip['z2'].notnull(), drop=True).v.stack(xy=('x','y')).reduce(scipy.stats.sem, dim='xy', nan_policy='omit')\n",
    "    itslive_clip['z3_sem'] = itslive_clip.where(itslive_clip['z3'].notnull(), drop=True).v.stack(xy=('x','y')).reduce(scipy.stats.sem, dim='xy', nan_policy='omit')\n",
    "    \n",
    "    if test != True:\n",
    "        \n",
    "        print('there is an elevation masking issue here')\n",
    "        \n",
    "    else:\n",
    "    \n",
    "        pass\n",
    "    \n",
    "    if output == 'full':\n",
    "        \n",
    "        return itslive_clip_gb\n",
    "    elif output == 'seasonal':\n",
    "        #remove any time steps where img 1 and img 2 span multiple seasons\n",
    "        itslive_clip = itslive_clip.where(itslive_clip.acquisition_date_img1.dt.season == itslive_clip.acquisition_date_img2.dt.season, drop=True)\n",
    "    \n",
    "        itslive_clip_gb = itslive_clip.groupby(itslive_clip.mid_date.dt.season).mean()\n",
    "    \n",
    "        print(rgi_id)\n",
    "        itslive_clip_gb.to_netcdf(f'/uufs/chpc.utah.edu/common/home/cryosphere/emarshall/43_results/itslive/ds_{rgi_id}.nc')\n",
    "        return itslive_clip_gb"
   ]
  },
  {
   "cell_type": "code",
   "execution_count": null,
   "id": "1ea28863-7ef6-4143-a3c0-63d247793060",
   "metadata": {},
   "outputs": [
    {
     "name": "stdout",
     "output_type": "stream",
     "text": [
      "RGI60-15.03976\n",
      "velocity clipped\n",
      "cov calculated\n",
      "dem prepped\n",
      "added z quartiles\n",
      "z quartiles done\n",
      "sem calculated\n",
      "RGI60-15.04119\n",
      "velocity clipped\n",
      "cov calculated\n",
      "dem prepped\n",
      "added z quartiles\n",
      "z quartiles done\n",
      "sem calculated\n",
      "RGI60-15.04121\n",
      "velocity clipped\n",
      "cov calculated\n",
      "dem prepped\n",
      "added z quartiles\n",
      "z quartiles done\n",
      "sem calculated\n",
      "RGI60-15.04176\n",
      "velocity clipped\n",
      "cov calculated\n",
      "dem prepped\n",
      "added z quartiles\n",
      "z quartiles done\n",
      "sem calculated\n",
      "RGI60-15.04220\n",
      "velocity clipped\n",
      "cov calculated\n",
      "dem prepped\n",
      "added z quartiles\n",
      "z quartiles done\n",
      "sem calculated\n",
      "RGI60-15.09249\n",
      "velocity clipped\n",
      "cov calculated\n",
      "dem prepped\n",
      "added z quartiles\n",
      "z quartiles done\n",
      "sem calculated\n",
      "RGI60-15.09255\n",
      "velocity clipped\n",
      "cov calculated\n",
      "dem prepped\n",
      "added z quartiles\n",
      "z quartiles done\n",
      "sem calculated\n",
      "RGI60-15.09271\n",
      "velocity clipped\n",
      "cov calculated\n",
      "dem prepped\n",
      "added z quartiles\n",
      "z quartiles done\n",
      "sem calculated\n",
      "RGI60-15.09283\n",
      "velocity clipped\n",
      "cov calculated\n",
      "dem prepped\n",
      "added z quartiles\n",
      "z quartiles done\n",
      "sem calculated\n",
      "RGI60-15.09308\n",
      "velocity clipped\n"
     ]
    }
   ],
   "source": [
    "ds_ls = [] \n",
    "for glacier in range(len(rgi_ids)):\n",
    "    print(rgi_ids[glacier])\n",
    "    ds = single_glacier_prep(rgi_ids[glacier], rgi45_subset_prj, itslive, nasadem_prj, 'full')\n",
    "    ds_ls.append(ds)\n",
    "    #ds.to_netcdf(f'/uufs/chpc.utah.edu/common/home/u1269862/2023/new_retreat/43_results/itslive/ds_{lake_ids[glacier]}.nc')\n",
    "itslive_dict = dict(zip(rgi_ids, ds_ls))"
   ]
  },
  {
   "cell_type": "code",
   "execution_count": null,
   "id": "2d42bd22-0535-4112-8c28-0394f7efa8cd",
   "metadata": {},
   "outputs": [],
   "source": []
  },
  {
   "cell_type": "code",
   "execution_count": null,
   "id": "22c1efd3-4cc3-4782-a2ad-b3e8bbbbc997",
   "metadata": {},
   "outputs": [],
   "source": []
  },
  {
   "cell_type": "code",
   "execution_count": null,
   "id": "42d3df0c-4347-416b-97a8-d9825de08bc5",
   "metadata": {},
   "outputs": [],
   "source": []
  },
  {
   "cell_type": "code",
   "execution_count": null,
   "id": "c91ed785-16cb-492d-b11b-724bbe86e145",
   "metadata": {},
   "outputs": [],
   "source": []
  },
  {
   "cell_type": "code",
   "execution_count": null,
   "id": "62f0ea2d-3052-4f03-8c5c-ed7ed93b8a92",
   "metadata": {},
   "outputs": [],
   "source": []
  },
  {
   "cell_type": "code",
   "execution_count": null,
   "id": "d3790c61-611a-44d4-a991-39296739a513",
   "metadata": {},
   "outputs": [],
   "source": []
  },
  {
   "cell_type": "markdown",
   "id": "5d4bc472-2de4-43ad-b7eb-9e97d92789f4",
   "metadata": {},
   "source": [
    "sem(itslive.isel(mid_date=100).v.data.flatten(), nan_policy='omit')"
   ]
  },
  {
   "cell_type": "markdown",
   "id": "fe50b032-8a21-4534-96c6-95c4b5c78d76",
   "metadata": {},
   "source": [
    "def calc_sem(x):\n",
    "    ''' calc standard error of measurement for an xarray data array at a given time step\n",
    "    '''\n",
    "    return sem(x.data.flatten(), nan_policy='omit')"
   ]
  },
  {
   "cell_type": "code",
   "execution_count": 22,
   "id": "f5d1a657-fcc7-457f-abd3-f8606d6b6a11",
   "metadata": {},
   "outputs": [],
   "source": [
    "def clip_glacier_add_dem(rgi_id, rgi_full, itslive_xr, dem_xr, output = 'full'): #all in local utm\n",
    "    '''this function is the processing step to go from a full itslive granule to the extent of a single glacier and add NASADEM to itslive xr object. Currently oriented toward seasonal analysis, could change. \n",
    "    inputs are: RGIId, rgi geodataframe, itslive xr object, nasadem xr object\n",
    "    Steps are:\n",
    "    1. clip itslive granule by glacier outline (or centerline)\n",
    "    2. calc + add 'coverage' variable to xr.dataset\n",
    "    3. subset dataset, removing time steps where cov < 0.5\n",
    "    5. drop time steps where img1 and img2 are not in the same season (change this if using for full time series, not seasonal means)\n",
    "    6. clip NASASDEM to extent of single glacier\n",
    "    7. downsample to match itslive resolution\n",
    "    8. add z as var to xr object\n",
    "    9. calculate elevation quartiles and add them as variables (z0,z1,z2,z3)\n",
    "    '''\n",
    "    print('rgi ID: ', rgi_id)\n",
    "    rgi_single = rgi_full.loc[rgi_full['RGIId'] == rgi_id]\n",
    "    #print(rgi_single['RGIId'])\n",
    "    \n",
    "    itslive_clip = itslive_xr.rio.clip(rgi_single.geometry, rgi_single.crs)\n",
    "    #print('clipping itslive')\n",
    "    valid_pixels = itslive_clip.v.count(dim=['x','y'])\n",
    "    valid_pixels_max = itslive_clip.v.notnull().any('mid_date').sum(['x','y'])\n",
    "    itslive_clip['cov'] = valid_pixels / valid_pixels_max\n",
    "    itslive_clip = itslive_clip.where(itslive_clip.cov >= 0.5, drop=True)\n",
    "    \n",
    "    print('this many time steps left after cov: ', len(itslive_clip.mid_date))\n",
    "    dem_clip = dem_xr.rio.clip(rgi_single.geometry, rgi_single.crs)\n",
    "    print('clipping dem')\n",
    "    dem_downsamp = dem_clip.interp_like(itslive_clip, method='nearest')\n",
    "    print('dem clipped')\n",
    "    itslive_clip['z'] = dem_downsamp.NASADEM_HGT\n",
    "    \n",
    "    zmin = np.nanmin(dem_downsamp.NASADEM_HGT.data)\n",
    "    zq1 = np.nanpercentile(dem_downsamp.NASADEM_HGT.data, 25)\n",
    "    zmed = np.nanmedian(dem_downsamp.NASADEM_HGT.data)\n",
    "    zq3 = np.nanpercentile(dem_downsamp.NASADEM_HGT.data, 75)\n",
    "    zmax = np.nanmax(dem_downsamp.NASADEM_HGT.data)\n",
    "\n",
    "    z0 = dem_downsamp.NASADEM_HGT.where(np.logical_and(dem_downsamp.NASADEM_HGT >= zmin, dem_downsamp.NASADEM_HGT <= zq1), drop=True)\n",
    "    z1 = dem_downsamp.NASADEM_HGT.where(np.logical_and(dem_downsamp.NASADEM_HGT >= zq1, dem_downsamp.NASADEM_HGT <= zmed), drop=True)\n",
    "    z2 = dem_downsamp.NASADEM_HGT.where(np.logical_and(dem_downsamp.NASADEM_HGT >= zmed, dem_downsamp.NASADEM_HGT <= zq3), drop=True)\n",
    "    z3 = dem_downsamp.NASADEM_HGT.where(np.logical_and(dem_downsamp.NASADEM_HGT >= zq3, dem_downsamp.NASADEM_HGT <= zmax), drop=True)\n",
    "    print('z groups made')\n",
    "    \n",
    "    itslive_clip['sem_v'] = itslive_clip.v.stack(xy=('x','y')).reduce(scipy.stats.sem, dim='xy', nan_policy='omit')\n",
    "\n",
    "    #itslive_clip['sem_v'] = (('mid_date'), [calc_sem(itslive_clip.isel(mid_date=t).v) for t in range(len(itslive_clip.mid_date))])\n",
    "    print('sem added')\n",
    "\n",
    "    itslive_clip['z0'] = z0\n",
    "    itslive_clip['z1'] = z1\n",
    "    itslive_clip['z2'] = z2\n",
    "    itslive_clip['z3'] = z3\n",
    "    \n",
    "    z0_cond_min = itslive_clip.z0.min().data >= zmin\n",
    "    z0_cond_max = itslive_clip.z0.max().data < zq1+1\n",
    "    z1_cond_min = itslive_clip.z1.min().data >= zq1\n",
    "    z1_cond_max = itslive_clip.z1.max().data <zmed + 1\n",
    "    z2_cond_min = itslive_clip.z2.min().data >= zmed\n",
    "    z2_cond_max = itslive_clip.z2.max().data < zq3 + 1\n",
    "    z3_cond_min = itslive_clip.z3.min().data >= zq3\n",
    "    z3_cond_max = itslive_clip.z3.max().data < zmax+1\n",
    "    print('z stuff')\n",
    "    cond_ls = [z0_cond_min, z0_cond_max, z1_cond_min, z1_cond_max,\n",
    "               z2_cond_min, z2_cond_max, z3_cond_min, z3_cond_max]\n",
    "    \n",
    "    test = all(i for i in cond_ls)\n",
    "    itslive_clip['z0_sem'] = itslive_clip.where(itslive_clip['z0'].notnull(), drop=True).v.stack(xy=('x','y')).reduce(scipy.stats.sem, dim='xy', nan_policy='omit')\n",
    "    itslive_clip['z1_sem'] = itslive_clip.where(itslive_clip['z1'].notnull(), drop=True).v.stack(xy=('x','y')).reduce(scipy.stats.sem, dim='xy', nan_policy='omit')\n",
    "    itslive_clip['z2_sem'] = itslive_clip.where(itslive_clip['z2'].notnull(), drop=True).v.stack(xy=('x','y')).reduce(scipy.stats.sem, dim='xy', nan_policy='omit')\n",
    "    itslive_clip['z3_sem'] = itslive_clip.where(itslive_clip['z3'].notnull(), drop=True).v.stack(xy=('x','y')).reduce(scipy.stats.sem, dim='xy', nan_policy='omit')\n",
    "\n",
    "\n",
    "    \n",
    "    #remove any time steps where img 1 and img 2 span multiple seasons\n",
    "    itslive_clip = itslive_clip.where(itslive_clip.acquisition_date_img1.dt.season == itslive_clip.acquisition_date_img2.dt.season, drop=True)\n",
    "    \n",
    "    itslive_clip_gb = itslive_clip.groupby(itslive_clip.mid_date.dt.season).mean()\n",
    "    \n",
    "    if test != True:\n",
    "        \n",
    "        print('there is an elevation masking issue here')\n",
    "        \n",
    "    else:\n",
    "    \n",
    "        pass\n",
    "    \n",
    "    if output == 'full':\n",
    "        \n",
    "        return itslive_clip\n",
    "    elif output == 'seasonal':\n",
    "        return itslive_clip_gb\n"
   ]
  },
  {
   "cell_type": "code",
   "execution_count": 23,
   "id": "602a0022-bd57-4c8e-866a-1a9e1511df8c",
   "metadata": {},
   "outputs": [],
   "source": [
    "def calc_seasonal_mean_by_z(input_ds, z, var, rgi_id):\n",
    "        \n",
    "    gb = input_ds.groupby(input_ds.mid_date.dt.season).mean()\n",
    "    \n",
    "    if z == 'full':\n",
    "\n",
    "        winter = gb.sel(season='DJF')[f'{var}'].mean(dim=['x','y']).compute().data\n",
    "        spring = gb.sel(season='MAM')[f'{var}'].mean(dim=['x','y']).compute().data\n",
    "        summer = gb.sel(season='JJA')[f'{var}'].mean(dim=['x','y']).compute().data\n",
    "        fall = gb.sel(season='SON')[f'{var}'].mean(dim=['x','y']).compute().data\n",
    "\n",
    "    else:\n",
    "        z_gb = gb.where(gb[f'{z}'].notnull(), drop=True)\n",
    "\n",
    "        winter = z_gb.sel(season='DJF')[f'{var}'].mean(dim=['x','y']).compute().data\n",
    "        spring = z_gb.sel(season='MAM')[f'{var}'].mean(dim=['x','y']).compute().data\n",
    "        summer = z_gb.sel(season='JJA')[f'{var}'].mean(dim=['x','y']).compute().data\n",
    "        fall = z_gb.sel(season='SON')[f'{var}'].mean(dim=['x','y']).compute().data\n",
    "    \n",
    "    d = {'RGIId':rgi_id, 'var': var, 'z':z, 'winter': winter,\n",
    "             'spring':spring, 'summer': summer, 'fall':fall}\n",
    "            \n",
    "    df = pd.DataFrame(d, index=[0])\n",
    "    print('means calculated')\n",
    "    return df\n",
    "    "
   ]
  },
  {
   "cell_type": "code",
   "execution_count": 24,
   "id": "808e5491-97da-4cb7-ad0e-0f85f0c0b468",
   "metadata": {},
   "outputs": [],
   "source": [
    "def calc_seasonal_sem_by_z(input_ds, z, var,rgi_id):\n",
    "    \n",
    "    gb = input_ds.groupby(input_ds.mid_date.dt.season).mean()\n",
    "    \n",
    "    if z == 'full':\n",
    "        \n",
    "        winter = gb.sel(season='DJF')['sem_v'].compute().data\n",
    "        spring = gb.sel(season='MAM')['sem_v'].compute().data\n",
    "        summer = gb.sel(season='JJA')['sem_v'].compute().data\n",
    "        fall = gb.sel(season='SON')['sem_v'].compute().data\n",
    "    \n",
    "    elif z == 'z0':\n",
    "                \n",
    "        winter = gb.sel(season='DJF')['z0_sem'].compute().data\n",
    "        spring = gb.sel(season='MAM')['z0_sem'].compute().data\n",
    "        summer = gb.sel(season='JJA')['z0_sem'].compute().data\n",
    "        fall = gb.sel(season='SON')['z0_sem'].compute().data\n",
    "    \n",
    "    elif z == 'z1': \n",
    "        winter = gb.sel(season='DJF')['z1_sem'].compute().data\n",
    "        spring = gb.sel(season='MAM')['z1_sem'].compute().data\n",
    "        summer = gb.sel(season='JJA')['z1_sem'].compute().data\n",
    "        fall = gb.sel(season='SON')['z1_sem'].compute().data\n",
    "    elif z == 'z2': \n",
    "        winter = gb.sel(season='DJF')['z2_sem'].compute().data\n",
    "        spring = gb.sel(season='MAM')['z2_sem'].compute().data\n",
    "        summer = gb.sel(season='JJA')['z2_sem'].compute().data\n",
    "        fall = gb.sel(season='SON')['z2_sem'].compute().data\n",
    "    elif z == 'z3':\n",
    "        winter = gb.sel(season='DJF')['z3_sem'].compute().data\n",
    "        spring = gb.sel(season='MAM')['z3_sem'].compute().data\n",
    "        summer = gb.sel(season='JJA')['z3_sem'].compute().data\n",
    "        fall = gb.sel(season='SON')['z3_sem'].compute().data\n",
    "        \n",
    "    d = {'RGIId':rgi_id, 'var':var, 'z':z, 'winter': winter,\n",
    "             'spring':spring, 'summer': summer, 'fall':fall}\n",
    "            \n",
    "    df = pd.DataFrame(d, index=[0])\n",
    "    print('sems calculated')\n",
    "    return df\n",
    "    "
   ]
  },
  {
   "cell_type": "code",
   "execution_count": 25,
   "id": "5e95251a-b151-43ef-8068-95393279fc45",
   "metadata": {},
   "outputs": [],
   "source": [
    "def wrapper_single_glacier(rgi_id, rgi_full, itslive, dem_xr, var):\n",
    "    '''wraps the above two functions, returns a dataframe with seasonal velocities for each elevation quartile\n",
    "       input args are: rgi_id (str), full or subset rgi gpdf\n",
    "       itslive xr object (read from aws s3) in local utm,\n",
    "       NASADEM xr object projected to local utm \n",
    "       variable for which you want seasonal means to be calculated\n",
    "       \n",
    "   '''\n",
    "    ds = clip_glacier_add_dem(rgi_id, rgi_full, itslive, dem_xr,'full')\n",
    "        \n",
    "    df_v = pd.concat([calc_seasonal_mean_by_z(ds, z, var, rgi_id) for z in ['z0','z1','z2','z3','full']])\n",
    "    df_sem = pd.concat([calc_seasonal_sem_by_z(ds, z, 'sem_v', rgi_id) for z in ['z0', 'z1', 'z2', 'z3', 'full']])\n",
    "    print('single glacier wrapper')\n",
    "    df = pd.concat([df_v, df_sem])\n",
    "    df.to_csv(f'/uufs/chpc.utah.edu/common/home/u1269862/2023/new_retreat/331_results/itslive/df_{rgi_id}.csv')\n",
    "\n",
    "\n",
    "    return df"
   ]
  },
  {
   "cell_type": "code",
   "execution_count": 26,
   "id": "c1654b97-c752-4122-a300-a0fea9a37d71",
   "metadata": {},
   "outputs": [
    {
     "name": "stdout",
     "output_type": "stream",
     "text": [
      "rgi ID:  RGI60-15.10255\n",
      "this many time steps left after cov:  5028\n",
      "clipping dem\n",
      "dem clipped\n",
      "z groups made\n",
      "sem added\n",
      "z stuff\n"
     ]
    }
   ],
   "source": [
    "#ds_10255 = clip_glacier_add_dem('RGI60-15.10255', rgi_lakes_prj, itslive, nasadem_prj)"
   ]
  },
  {
   "cell_type": "code",
   "execution_count": 27,
   "id": "d739dc13-1b9f-4043-8a5f-ba32cf0a9c65",
   "metadata": {},
   "outputs": [
    {
     "data": {
      "text/plain": [
       "[<matplotlib.lines.Line2D at 0x7f67443b5c10>]"
      ]
     },
     "execution_count": 27,
     "metadata": {},
     "output_type": "execute_result"
    },
    {
     "data": {
      "image/png": "[encoded data removed]",
      "text/plain": [
       "<Figure size 640x480 with 1 Axes>"
      ]
     },
     "metadata": {},
     "output_type": "display_data"
    }
   ],
   "source": [
    "#fig, ax = plt.subplots()\n",
    "#ds_10255.z0_sem.plot(linestyle='None', marker='o', ax=ax, alpha = 0.5)\n",
    "#ds_10255.z1_sem.plot(linestyle='None', marker='o', ax=ax, alpha = 0.5)\n",
    "#ds_10255.z2_sem.plot(linestyle='None', marker='o', ax=ax,  alpha = 0.5)\n",
    "#ds_10255.z3_sem.plot(linestyle='None', marker='o', ax=ax,  alpha = 0.5)"
   ]
  },
  {
   "cell_type": "code",
   "execution_count": 26,
   "id": "fe0961cd-ff82-4326-a0b7-1a091b6bc246",
   "metadata": {},
   "outputs": [],
   "source": [
    "already_made_dfs  = os.listdir('/uufs/chpc.utah.edu/common/home/u1269862/2023/new_retreat/331_results/itslive/')\n"
   ]
  },
  {
   "cell_type": "code",
   "execution_count": null,
   "id": "24cae061-fc51-4fa6-bac7-29330f63c664",
   "metadata": {},
   "outputs": [
    {
     "name": "stdout",
     "output_type": "stream",
     "text": [
      "rgi ID:  RGI60-15.10255\n",
      "this many time steps left after cov:  5028\n",
      "clipping dem\n",
      "dem clipped\n",
      "z groups made\n",
      "sem added\n",
      "z stuff\n",
      "means calculated\n",
      "means calculated\n",
      "means calculated\n",
      "means calculated\n",
      "means calculated\n",
      "sems calculated\n",
      "sems calculated\n",
      "sems calculated\n",
      "sems calculated\n",
      "sems calculated\n",
      "single glacier wrapper\n",
      "rgi ID:  RGI60-15.10285\n",
      "this many time steps left after cov:  3448\n",
      "clipping dem\n",
      "dem clipped\n",
      "z groups made\n",
      "sem added\n",
      "z stuff\n",
      "means calculated\n",
      "means calculated\n",
      "means calculated\n",
      "means calculated\n",
      "means calculated\n",
      "sems calculated\n",
      "sems calculated\n",
      "sems calculated\n",
      "sems calculated\n",
      "sems calculated\n",
      "single glacier wrapper\n",
      "rgi ID:  RGI60-15.10279\n",
      "this many time steps left after cov:  4663\n",
      "clipping dem\n",
      "dem clipped\n",
      "z groups made\n",
      "sem added\n",
      "z stuff\n",
      "means calculated\n",
      "means calculated\n",
      "means calculated\n",
      "means calculated\n",
      "means calculated\n",
      "sems calculated\n",
      "sems calculated\n",
      "sems calculated\n",
      "sems calculated\n",
      "sems calculated\n",
      "single glacier wrapper\n",
      "rgi ID:  RGI60-15.10286\n",
      "this many time steps left after cov:  3878\n",
      "clipping dem\n",
      "dem clipped\n",
      "z groups made\n",
      "sem added\n",
      "z stuff\n",
      "means calculated\n",
      "means calculated\n",
      "means calculated\n",
      "means calculated\n",
      "means calculated\n",
      "sems calculated\n",
      "sems calculated\n",
      "sems calculated\n",
      "sems calculated\n",
      "sems calculated\n",
      "single glacier wrapper\n",
      "rgi ID:  RGI60-15.09361\n",
      "this many time steps left after cov:  3165\n",
      "clipping dem\n",
      "dem clipped\n",
      "z groups made\n",
      "sem added\n",
      "z stuff\n",
      "means calculated\n",
      "means calculated\n",
      "means calculated\n",
      "means calculated\n",
      "means calculated\n",
      "sems calculated\n",
      "sems calculated\n",
      "sems calculated\n",
      "sems calculated\n",
      "sems calculated\n",
      "single glacier wrapper\n",
      "rgi ID:  RGI60-15.09483\n"
     ]
    }
   ],
   "source": [
    "df_lakes = pd.concat([wrapper_single_glacier(rgi_id, rgi_lakes_prj, itslive, nasadem_prj, 'v') for rgi_id in lake_ids])"
   ]
  },
  {
   "cell_type": "code",
   "execution_count": null,
   "id": "be751488-2f49-4654-b81f-5fe51ca37be8",
   "metadata": {},
   "outputs": [
    {
     "name": "stdout",
     "output_type": "stream",
     "text": [
      "rgi ID:  RGI60-15.03976\n",
      "this many time steps left after cov:  10172\n",
      "clipping dem\n",
      "dem clipped\n",
      "z groups made\n",
      "sem added\n",
      "z stuff\n",
      "means calculated\n",
      "means calculated\n"
     ]
    }
   ],
   "source": [
    "already_made_dfs = os.listdir('/uufs/chpc.utah.edu/common/home/u1269862/2023/new_retreat/331_results/itslive/')\n",
    "\n",
    "already_made_dfs = [glacier[3:-4] for glacier in already_made_dfs]\n",
    "\n",
    "for element in range(len(land_ids)):\n",
    "    \n",
    "    rgi_id = land_ids[element]\n",
    "    \n",
    "    if rgi_id in already_made_dfs:\n",
    "        \n",
    "        pass\n",
    "    else:\n",
    "        df = wrapper_single_glacier(rgi_id, rgi_lands_prj, itslive, nasadem_prj, 'v')"
   ]
  },
  {
   "cell_type": "code",
   "execution_count": null,
   "id": "529e559e-2e32-4f0d-9eea-a18282e54dcb",
   "metadata": {},
   "outputs": [
    {
     "name": "stdout",
     "output_type": "stream",
     "text": [
      "rgi ID:  RGI60-15.03976\n",
      "this many time steps left after cov:  10172\n",
      "clipping dem\n",
      "dem clipped\n",
      "z groups made\n",
      "sem added\n",
      "z stuff\n",
      "means calculated\n",
      "means calculated\n",
      "means calculated\n",
      "means calculated\n",
      "means calculated\n",
      "sems calculated\n",
      "sems calculated\n",
      "sems calculated\n",
      "sems calculated\n",
      "sems calculated\n",
      "single glacier wrapper\n",
      "rgi ID:  RGI60-15.04119\n",
      "this many time steps left after cov:  3654\n",
      "clipping dem\n",
      "dem clipped\n",
      "z groups made\n",
      "sem added\n",
      "z stuff\n",
      "means calculated\n",
      "means calculated\n",
      "means calculated\n",
      "means calculated\n",
      "means calculated\n",
      "sems calculated\n",
      "sems calculated\n",
      "sems calculated\n",
      "sems calculated\n",
      "sems calculated\n",
      "single glacier wrapper\n",
      "rgi ID:  RGI60-15.04121\n",
      "this many time steps left after cov:  3807\n",
      "clipping dem\n",
      "dem clipped\n",
      "z groups made\n",
      "sem added\n",
      "z stuff\n",
      "means calculated\n",
      "means calculated\n",
      "means calculated\n",
      "means calculated\n",
      "means calculated\n",
      "sems calculated\n",
      "sems calculated\n",
      "sems calculated\n",
      "sems calculated\n",
      "sems calculated\n",
      "single glacier wrapper\n",
      "rgi ID:  RGI60-15.04176\n",
      "this many time steps left after cov:  3727\n",
      "clipping dem\n",
      "dem clipped\n",
      "z groups made\n",
      "sem added\n",
      "z stuff\n",
      "means calculated\n",
      "means calculated\n",
      "means calculated\n",
      "means calculated\n",
      "means calculated\n",
      "sems calculated\n",
      "sems calculated\n",
      "sems calculated\n",
      "sems calculated\n",
      "sems calculated\n",
      "single glacier wrapper\n",
      "rgi ID:  RGI60-15.04220\n",
      "this many time steps left after cov:  2515\n",
      "clipping dem\n",
      "dem clipped\n",
      "z groups made\n",
      "sem added\n",
      "z stuff\n",
      "means calculated\n",
      "means calculated\n",
      "means calculated\n",
      "means calculated\n",
      "means calculated\n",
      "sems calculated\n",
      "sems calculated\n",
      "sems calculated\n",
      "sems calculated\n",
      "sems calculated\n",
      "single glacier wrapper\n",
      "rgi ID:  RGI60-15.09249\n",
      "this many time steps left after cov:  2031\n",
      "clipping dem\n",
      "dem clipped\n",
      "z groups made\n",
      "sem added\n",
      "z stuff\n"
     ]
    }
   ],
   "source": [
    "#df_lands = pd.concat([wrapper_single_glacier(rgi_id, rgi_lands_prj, itslive, nasadem_prj, 'v') for rgi_id in land_ids])"
   ]
  },
  {
   "cell_type": "code",
   "execution_count": null,
   "id": "063cd4b8-3dd8-4a51-af6c-85613b498cd1",
   "metadata": {},
   "outputs": [],
   "source": []
  }
 ],
 "metadata": {
  "kernelspec": {
   "display_name": "stac_work",
   "language": "python",
   "name": "stac_work"
  },
  "language_info": {
   "codemirror_mode": {
    "name": "ipython",
    "version": 3
   },
   "file_extension": ".py",
   "mimetype": "text/x-python",
   "name": "python",
   "nbconvert_exporter": "python",
   "pygments_lexer": "ipython3",
   "version": "3.11.0"
  }
 },
 "nbformat": 4,
 "nbformat_minor": 5
}
