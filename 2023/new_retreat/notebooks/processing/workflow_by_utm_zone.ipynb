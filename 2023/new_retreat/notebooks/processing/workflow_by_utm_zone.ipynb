{
 "cells": [
  {
   "cell_type": "markdown",
   "id": "a6cc5fa0-bcb5-41a2-8573-d0796369c0af",
   "metadata": {},
   "source": [
    "# RETREAT workflow by UTM zone"
   ]
  },
  {
   "cell_type": "code",
   "execution_count": 2,
   "id": "9c79e30b-cb7e-41e6-8934-bff9afa2e15b",
   "metadata": {},
   "outputs": [],
   "source": [
    "import os\n",
    "import geopandas as gpd\n",
    "import matplotlib.pyplot as plt\n",
    "import pystac\n",
    "import stackstac\n",
    "import xarray as xr\n",
    "import pandas as pd"
   ]
  },
  {
   "cell_type": "markdown",
   "id": "409c0586-e3aa-43b3-acc6-15e80ec82c46",
   "metadata": {},
   "source": [
    "## Utility functions"
   ]
  },
  {
   "cell_type": "code",
   "execution_count": 3,
   "id": "1f3a8544-5e86-4b41-af6c-3a0843727faf",
   "metadata": {},
   "outputs": [],
   "source": [
    "def check_orig_files(item):\n",
    "    \n",
    "    file_ls = ['orig_file_dis_az', 'orig_file_dis_mag','orig_file_dis_N_ang','orig_file_dis_r']\n",
    "    \n",
    "    dt_ls, ref_date_ls, sec_date_ls = [],[],[]\n",
    "    for file in file_ls:\n",
    "        \n",
    "        var_name_dt = f'{file}_datetime'\n",
    "        var_name_ref = f'{file}_ref_date'\n",
    "        var_name_sec = f'{file}_sec_date'\n",
    "        \n",
    "        var_name_dt = item.extra_fields[file][22:30]\n",
    "        var_name_ref = item.extra_fields[file].split('+S1_')[1][:15]\n",
    "        var_name_sec = item.extra_fields[file].split('+S1_')[1].split('_')[9]\n",
    "        \n",
    "        dt_ls.append(var_name_dt)\n",
    "        ref_date_ls.append(var_name_ref)\n",
    "        sec_date_ls.append(var_name_sec)\n",
    "       \n",
    "    if len(set(dt_ls)) != 1:\n",
    "           print('issue w dt')\n",
    "    elif len(set(ref_date_ls)) != 1:\n",
    "             print('issue with ref date')\n",
    "             \n",
    "    elif len(set(sec_date_ls)) != 1:\n",
    "             print('issue w sec date')"
   ]
  },
  {
   "cell_type": "markdown",
   "id": "a2ebe8ce-6276-44ea-b3a9-5c9a7d7b304d",
   "metadata": {},
   "source": [
    "## RGI"
   ]
  },
  {
   "cell_type": "code",
   "execution_count": 4,
   "id": "91e52f7d-674f-4651-8c0d-dac4d6cc78ec",
   "metadata": {},
   "outputs": [],
   "source": [
    "rgi_path = '/uufs/chpc.utah.edu/common/home/u1269862/2023/new_retreat/data/rgi/'"
   ]
  },
  {
   "cell_type": "code",
   "execution_count": 5,
   "id": "0445691b-e501-4d15-b15e-3a52b032a092",
   "metadata": {},
   "outputs": [],
   "source": [
    "rgi15 = gpd.read_file(os.path.join(rgi_path, 'rgi15', '15_rgi60_SouthAsiaEast.shp'))\n",
    "rgi14 = gpd.read_file(os.path.join(rgi_path, 'rgi14', '14_rgi60_SouthAsiaWest.shp'))\n",
    "rgi13 = gpd.read_file(os.path.join(rgi_path, 'rgi13', '13_rgi60_CentralAsia.shp'))"
   ]
  },
  {
   "cell_type": "code",
   "execution_count": 6,
   "id": "8215e700-e881-4973-948b-81e569b0b93e",
   "metadata": {},
   "outputs": [],
   "source": [
    "rgi= pd.concat([rgi13,rgi14,rgi15])"
   ]
  },
  {
   "cell_type": "markdown",
   "id": "e0e0a893-72e5-412c-bfde-9b8061325980",
   "metadata": {},
   "source": [
    "## UTM grids"
   ]
  },
  {
   "cell_type": "code",
   "execution_count": 7,
   "id": "0082eb9b-48d4-42e0-b130-e7546cb68cc1",
   "metadata": {},
   "outputs": [],
   "source": [
    "utm_dir = '/uufs/chpc.utah.edu/common/home/u1269862/2023/new_retreat/data/utm/'"
   ]
  },
  {
   "cell_type": "code",
   "execution_count": 8,
   "id": "f0604e49-0a0a-4ff6-ad20-9b0acbbf6ffc",
   "metadata": {},
   "outputs": [],
   "source": [
    "utm_path = '/uufs/chpc.utah.edu/common/home/u1269862/2023/new_retreat/data/utm/World_UTM_Grid(1).geojson'"
   ]
  },
  {
   "cell_type": "code",
   "execution_count": 9,
   "id": "061eb11a-e944-4526-a834-77f4949cea57",
   "metadata": {},
   "outputs": [],
   "source": [
    "utm = gpd.read_file(utm_path)"
   ]
  },
  {
   "cell_type": "code",
   "execution_count": 10,
   "id": "f375cc66-5978-438d-8638-22a243bac737",
   "metadata": {},
   "outputs": [],
   "source": [
    "utm_hma = gpd.sjoin(utm, rgi, how='inner')"
   ]
  },
  {
   "cell_type": "code",
   "execution_count": 11,
   "id": "338ab0a6-8eda-454d-b2f0-6e9bf8288e33",
   "metadata": {},
   "outputs": [
    {
     "data": {
      "text/html": [
       "<div>\n",
       "<style scoped>\n",
       "    .dataframe tbody tr th:only-of-type {\n",
       "        vertical-align: middle;\n",
       "    }\n",
       "\n",
       "    .dataframe tbody tr th {\n",
       "        vertical-align: top;\n",
       "    }\n",
       "\n",
       "    .dataframe thead th {\n",
       "        text-align: right;\n",
       "    }\n",
       "</style>\n",
       "<table border=\"1\" class=\"dataframe\">\n",
       "  <thead>\n",
       "    <tr style=\"text-align: right;\">\n",
       "      <th></th>\n",
       "      <th>FID</th>\n",
       "      <th>ZONE</th>\n",
       "      <th>ROW_</th>\n",
       "      <th>WEST_VALUE</th>\n",
       "      <th>CM_VALUE</th>\n",
       "      <th>EAST_VALUE</th>\n",
       "      <th>geometry</th>\n",
       "    </tr>\n",
       "  </thead>\n",
       "  <tbody>\n",
       "    <tr>\n",
       "      <th>380</th>\n",
       "      <td>381</td>\n",
       "      <td>43</td>\n",
       "      <td>R</td>\n",
       "      <td>72E</td>\n",
       "      <td>75E</td>\n",
       "      <td>78E</td>\n",
       "      <td>POLYGON ((72.00000 32.00000, 73.00000 32.00000...</td>\n",
       "    </tr>\n",
       "    <tr>\n",
       "      <th>874</th>\n",
       "      <td>875</td>\n",
       "      <td>43</td>\n",
       "      <td>S</td>\n",
       "      <td>72E</td>\n",
       "      <td>75E</td>\n",
       "      <td>78E</td>\n",
       "      <td>POLYGON ((72.00000 40.00000, 73.00000 40.00000...</td>\n",
       "    </tr>\n",
       "    <tr>\n",
       "      <th>382</th>\n",
       "      <td>383</td>\n",
       "      <td>44</td>\n",
       "      <td>R</td>\n",
       "      <td>78E</td>\n",
       "      <td>81E</td>\n",
       "      <td>84E</td>\n",
       "      <td>POLYGON ((84.00000 32.00000, 84.00000 31.00000...</td>\n",
       "    </tr>\n",
       "    <tr>\n",
       "      <th>386</th>\n",
       "      <td>387</td>\n",
       "      <td>45</td>\n",
       "      <td>R</td>\n",
       "      <td>84E</td>\n",
       "      <td>87E</td>\n",
       "      <td>90E</td>\n",
       "      <td>POLYGON ((90.00000 32.00000, 90.00000 31.00000...</td>\n",
       "    </tr>\n",
       "    <tr>\n",
       "      <th>877</th>\n",
       "      <td>878</td>\n",
       "      <td>44</td>\n",
       "      <td>S</td>\n",
       "      <td>78E</td>\n",
       "      <td>81E</td>\n",
       "      <td>84E</td>\n",
       "      <td>POLYGON ((78.00000 40.00000, 79.00000 40.00000...</td>\n",
       "    </tr>\n",
       "  </tbody>\n",
       "</table>\n",
       "</div>"
      ],
      "text/plain": [
       "     FID  ZONE ROW_ WEST_VALUE CM_VALUE EAST_VALUE  \\\n",
       "380  381    43    R        72E      75E        78E   \n",
       "874  875    43    S        72E      75E        78E   \n",
       "382  383    44    R        78E      81E        84E   \n",
       "386  387    45    R        84E      87E        90E   \n",
       "877  878    44    S        78E      81E        84E   \n",
       "\n",
       "                                              geometry  \n",
       "380  POLYGON ((72.00000 32.00000, 73.00000 32.00000...  \n",
       "874  POLYGON ((72.00000 40.00000, 73.00000 40.00000...  \n",
       "382  POLYGON ((84.00000 32.00000, 84.00000 31.00000...  \n",
       "386  POLYGON ((90.00000 32.00000, 90.00000 31.00000...  \n",
       "877  POLYGON ((78.00000 40.00000, 79.00000 40.00000...  "
      ]
     },
     "execution_count": 11,
     "metadata": {},
     "output_type": "execute_result"
    }
   ],
   "source": [
    "utm_hma = utm_hma.iloc[:,:7].drop_duplicates()\n",
    "utm_hma.head()"
   ]
  },
  {
   "cell_type": "code",
   "execution_count": 12,
   "id": "4fb72e4a-9999-484d-8fad-3df9622e5e0e",
   "metadata": {},
   "outputs": [],
   "source": [
    "utm42 = utm_hma.loc[utm_hma['ZONE'] == 42]\n",
    "utm43 = utm_hma.loc[utm_hma['ZONE'] == 43]\n",
    "utm44 = utm_hma.loc[utm_hma['ZONE'] == 44]\n",
    "utm45 = utm_hma.loc[utm_hma['ZONE'] == 45]\n",
    "utm46 = utm_hma.loc[utm_hma['ZONE'] == 46]\n",
    "utm47 = utm_hma.loc[utm_hma['ZONE'] == 47]\n"
   ]
  },
  {
   "cell_type": "code",
   "execution_count": 13,
   "id": "b8e9c41f-d056-4b18-a695-685bd85237df",
   "metadata": {},
   "outputs": [],
   "source": [
    "utm_ls = [utm42, utm43, utm44, utm45, utm46, utm47]"
   ]
  },
  {
   "cell_type": "code",
   "execution_count": 14,
   "id": "37d1964b-3593-4c79-8eea-4625101a328c",
   "metadata": {},
   "outputs": [],
   "source": [
    "utm_all = pd.concat(utm_ls)"
   ]
  },
  {
   "cell_type": "code",
   "execution_count": 15,
   "id": "06cf6531-f0ac-4bf2-97a1-afee567255b5",
   "metadata": {},
   "outputs": [
    {
     "data": {
      "text/html": [
       "<div>\n",
       "<style scoped>\n",
       "    .dataframe tbody tr th:only-of-type {\n",
       "        vertical-align: middle;\n",
       "    }\n",
       "\n",
       "    .dataframe tbody tr th {\n",
       "        vertical-align: top;\n",
       "    }\n",
       "\n",
       "    .dataframe thead th {\n",
       "        text-align: right;\n",
       "    }\n",
       "</style>\n",
       "<table border=\"1\" class=\"dataframe\">\n",
       "  <thead>\n",
       "    <tr style=\"text-align: right;\">\n",
       "      <th></th>\n",
       "      <th>minx</th>\n",
       "      <th>miny</th>\n",
       "      <th>maxx</th>\n",
       "      <th>maxy</th>\n",
       "    </tr>\n",
       "  </thead>\n",
       "  <tbody>\n",
       "    <tr>\n",
       "      <th>871</th>\n",
       "      <td>66.0</td>\n",
       "      <td>32.0</td>\n",
       "      <td>72.0</td>\n",
       "      <td>40.0</td>\n",
       "    </tr>\n",
       "  </tbody>\n",
       "</table>\n",
       "</div>"
      ],
      "text/plain": [
       "     minx  miny  maxx  maxy\n",
       "871  66.0  32.0  72.0  40.0"
      ]
     },
     "execution_count": 15,
     "metadata": {},
     "output_type": "execute_result"
    }
   ],
   "source": [
    "utm42.bounds"
   ]
  },
  {
   "cell_type": "code",
   "execution_count": 16,
   "id": "2cec6362-be90-4346-9976-e1be7a050498",
   "metadata": {},
   "outputs": [
    {
     "data": {
      "text/plain": [
       "<AxesSubplot: >"
      ]
     },
     "execution_count": 16,
     "metadata": {},
     "output_type": "execute_result"
    },
    {
     "data": {
      "image/png": "[encoded data removed]",
      "text/plain": [
       "<Figure size 640x480 with 1 Axes>"
      ]
     },
     "metadata": {},
     "output_type": "display_data"
    }
   ],
   "source": [
    "fig, ax = plt.subplots()\n",
    "utm_hma.plot(facecolor='None', ax=ax)\n",
    "rgi.plot(ax=ax)"
   ]
  },
  {
   "cell_type": "markdown",
   "id": "7a6558b7-f84d-40b8-ae81-83e871be6521",
   "metadata": {},
   "source": [
    "### Divide RGI by UTM zone"
   ]
  },
  {
   "cell_type": "code",
   "execution_count": 17,
   "id": "61e87d3b-e13b-496b-9618-2d33d6d15173",
   "metadata": {},
   "outputs": [
    {
     "data": {
      "text/plain": [
       "42"
      ]
     },
     "execution_count": 17,
     "metadata": {},
     "output_type": "execute_result"
    }
   ],
   "source": [
    "utm_ls[0]['ZONE'].values[0]"
   ]
  },
  {
   "cell_type": "code",
   "execution_count": 18,
   "id": "ae7e04b6-dec4-497d-87ee-300bb9ad9f6b",
   "metadata": {},
   "outputs": [],
   "source": [
    "def subset_rgi_by_utm(rgi_df, utm_df, zone):\n",
    "\n",
    "        utm_zone = utm_df.loc[utm_df['ZONE'] == zone]\n",
    "                              \n",
    "        rgi_zone = gpd.sjoin(rgi_df, utm_zone, how='inner')\n",
    "\n",
    "        return rgi_zone\n"
   ]
  },
  {
   "cell_type": "code",
   "execution_count": 19,
   "id": "097a98aa-9d14-49c4-b088-9051e18a0782",
   "metadata": {},
   "outputs": [],
   "source": [
    "rgi_utm42 = subset_rgi_by_utm(rgi, utm_all, 42)\n",
    "rgi_utm43 = subset_rgi_by_utm(rgi, utm_all, 43)\n",
    "rgi_utm44 = subset_rgi_by_utm(rgi, utm_all, 44)\n",
    "rgi_utm45 = subset_rgi_by_utm(rgi, utm_all, 45)\n",
    "rgi_utm46 = subset_rgi_by_utm(rgi, utm_all, 46)\n",
    "rgi_utm47 = subset_rgi_by_utm(rgi, utm_all, 47)"
   ]
  },
  {
   "cell_type": "markdown",
   "id": "5f18f849-741c-43b8-9b07-642f01a814c3",
   "metadata": {},
   "source": [
    "## RETREAT data from STAC Catalog"
   ]
  },
  {
   "cell_type": "code",
   "execution_count": 20,
   "id": "5b5a137a-6f4e-4047-baba-cf273743a782",
   "metadata": {},
   "outputs": [],
   "source": [
    "catalog = pystac.Catalog.from_file('/uufs/chpc.utah.edu/common/home/u1269862/2023/new_retreat/stac_catalog/catalog.json')\n"
   ]
  },
  {
   "cell_type": "code",
   "execution_count": 21,
   "id": "a43ac05a-d7a2-4db7-9f70-5af39c48a75d",
   "metadata": {},
   "outputs": [],
   "source": [
    "items = list(catalog.get_all_items())"
   ]
  },
  {
   "cell_type": "code",
   "execution_count": 22,
   "id": "8632014f-ac53-4ec2-bc05-8ec4e693996e",
   "metadata": {},
   "outputs": [],
   "source": [
    "for item in items:\n",
    "    \n",
    "    check_orig_files(item)"
   ]
  },
  {
   "cell_type": "code",
   "execution_count": 23,
   "id": "61d7035c-e489-48f8-8fc1-ca4fe8cf75ee",
   "metadata": {},
   "outputs": [],
   "source": [
    "feature_coll = [item.to_dict() for item in items]"
   ]
  },
  {
   "cell_type": "code",
   "execution_count": 24,
   "id": "be0c3f8d-aad3-4182-be33-4c961a038db2",
   "metadata": {},
   "outputs": [],
   "source": [
    "stac_gdf = gpd.GeoDataFrame.from_features(feature_coll)"
   ]
  },
  {
   "cell_type": "code",
   "execution_count": 25,
   "id": "fdf950af-039b-4214-9bd6-4513ca8871a4",
   "metadata": {},
   "outputs": [],
   "source": [
    "stac_gdf = stac_gdf.set_crs('EPSG:4326')"
   ]
  },
  {
   "cell_type": "code",
   "execution_count": 26,
   "id": "836c0dcc-67aa-4556-b853-354b9645bda8",
   "metadata": {},
   "outputs": [
    {
     "data": {
      "text/plain": [
       "314"
      ]
     },
     "execution_count": 26,
     "metadata": {},
     "output_type": "execute_result"
    }
   ],
   "source": [
    "len(gpd.sjoin(stac_gdf, utm44))"
   ]
  },
  {
   "cell_type": "code",
   "execution_count": 27,
   "id": "a10743b6-08eb-4898-8b8c-0902d0a67864",
   "metadata": {},
   "outputs": [],
   "source": [
    "utm_strs = ['42','43','44','45','46','47']"
   ]
  },
  {
   "cell_type": "code",
   "execution_count": 28,
   "id": "c0c3a263-bf7b-4fc5-9592-a610416bb515",
   "metadata": {},
   "outputs": [],
   "source": [
    "def subset_stac_items_to_utm(stac_gpdf, utm_ls, utm_strs):\n",
    "    \n",
    "    dd = []\n",
    "    for item in range(len(utm_ls)):\n",
    "                \n",
    "        joined = gpd.sjoin(stac_gpdf, utm_ls[item])\n",
    "        joined = joined.drop('index_right',axis=1)\n",
    "        \n",
    "        if len(joined) > 1:\n",
    "            #print('The stac catalog has items that lie in this UTM zone')\n",
    "            \n",
    "            d = {utm_strs[item]:joined}\n",
    "            dd.append(d)\n",
    "        \n",
    "        else:\n",
    "            pass\n",
    "\n",
    "    n = len(dd)\n",
    "    print('Items in this catalog lie in : ', n, ' UTM zones.')\n",
    "    \n",
    "    if n == 2:\n",
    "        z = {**dd[0], **dd[1]}\n",
    "    if n == 3:\n",
    "        z = {**dd[0], **dd[1],**dd[2]}\n",
    "        \n",
    "    print('They are zones: ', list(z.keys()))\n",
    "        \n",
    "    return z\n",
    "            \n",
    "            \n",
    "    "
   ]
  },
  {
   "cell_type": "code",
   "execution_count": 29,
   "id": "517ce624-852d-46f6-9dd0-14732594ae9f",
   "metadata": {},
   "outputs": [
    {
     "name": "stdout",
     "output_type": "stream",
     "text": [
      "Items in this catalog lie in :  2  UTM zones.\n",
      "They are zones:  ['44', '45']\n"
     ]
    }
   ],
   "source": [
    "i = subset_stac_items_to_utm(stac_gdf, utm_ls,utm_strs)"
   ]
  },
  {
   "cell_type": "code",
   "execution_count": 30,
   "id": "ff166d77-8340-4cec-9aac-45ab2c1a5093",
   "metadata": {},
   "outputs": [
    {
     "data": {
      "text/plain": [
       "<AxesSubplot: >"
      ]
     },
     "execution_count": 30,
     "metadata": {},
     "output_type": "execute_result"
    },
    {
     "data": {
      "image/png": "[encoded data removed]",
      "text/plain": [
       "<Figure size 640x480 with 1 Axes>"
      ]
     },
     "metadata": {},
     "output_type": "display_data"
    }
   ],
   "source": [
    "i['44'].iloc[0:10].plot(facecolor='None')"
   ]
  },
  {
   "cell_type": "markdown",
   "id": "2666e4e5-5d38-45c2-9208-e38b8e9c89c3",
   "metadata": {},
   "source": [
    "This currently returns a dict with the retreat scenes that lie in the specified UTM zone. is this what we want? "
   ]
  },
  {
   "cell_type": "code",
   "execution_count": 31,
   "id": "39085927-52eb-46ac-a876-f7c9073ce586",
   "metadata": {},
   "outputs": [
    {
     "data": {
      "text/plain": [
       "<AxesSubplot: >"
      ]
     },
     "execution_count": 31,
     "metadata": {},
     "output_type": "execute_result"
    },
    {
     "data": {
      "image/png": "[encoded data removed]",
      "text/plain": [
       "<Figure size 640x480 with 1 Axes>"
      ]
     },
     "metadata": {},
     "output_type": "display_data"
    }
   ],
   "source": [
    "fig, ax = plt.subplots()\n",
    "gpd.sjoin(rgi, utm44, how='inner').drop_duplicates().plot(ax=ax)\n",
    "\n",
    "gpd.sjoin(rgi, utm45, how='inner').drop_duplicates().plot(ax=ax, color='orange', alpha = 0.5)\n",
    "\n",
    "utm44.plot(ax=ax, facecolor='None')\n",
    "utm45.plot(ax=ax, facecolor='None')"
   ]
  },
  {
   "cell_type": "code",
   "execution_count": 32,
   "id": "0f6a5ba6-d063-4d92-bda4-6f90d420f961",
   "metadata": {},
   "outputs": [
    {
     "data": {
      "text/plain": [
       "<AxesSubplot: >"
      ]
     },
     "execution_count": 32,
     "metadata": {},
     "output_type": "execute_result"
    },
    {
     "data": {
      "image/png": "[encoded data removed]",
      "text/plain": [
       "<Figure size 640x480 with 1 Axes>"
      ]
     },
     "metadata": {},
     "output_type": "display_data"
    }
   ],
   "source": [
    "len(i)\n",
    "i.keys()\n",
    "fig, ax = plt.subplots()\n",
    "\n",
    "i['44'].plot(facecolor='None', ax=ax)\n",
    "utm44.plot(facecolor='None', ax=ax)\n",
    "utm45.plot(facecolor='None', ax=ax)\n",
    "gpd.sjoin(rgi, i['44'], how='inner').drop('index_right',axis=1).plot(ax=ax)"
   ]
  },
  {
   "cell_type": "code",
   "execution_count": 33,
   "id": "0efae045-7719-4eaf-b286-35cce9734634",
   "metadata": {},
   "outputs": [
    {
     "data": {
      "text/plain": [
       "<AxesSubplot: >"
      ]
     },
     "execution_count": 33,
     "metadata": {},
     "output_type": "execute_result"
    },
    {
     "data": {
      "image/png": "[encoded data removed]",
      "text/plain": [
       "<Figure size 640x480 with 1 Axes>"
      ]
     },
     "metadata": {},
     "output_type": "display_data"
    }
   ],
   "source": [
    "fig, ax = plt.subplots()\n",
    "stac_gdf.plot(facecolor='None', ax=ax)\n",
    "rgi.plot(ax=ax)\n",
    "utm_hma.plot(ax=ax, facecolor='None', edgecolor = 'darkred')\n",
    "\n"
   ]
  },
  {
   "cell_type": "markdown",
   "id": "28e043bf-2b3b-4254-b972-88dd26c87920",
   "metadata": {},
   "source": [
    "## Now start ind glacier workflow from single glacier stackstac?"
   ]
  },
  {
   "cell_type": "code",
   "execution_count": 1,
   "id": "bfbd4e4d-1614-4208-a376-db50a03bca7b",
   "metadata": {},
   "outputs": [
    {
     "ename": "NameError",
     "evalue": "name 'catalog' is not defined",
     "output_type": "error",
     "traceback": [
      "\u001b[0;31m---------------------------------------------------------------------------\u001b[0m",
      "\u001b[0;31mNameError\u001b[0m                                 Traceback (most recent call last)",
      "Cell \u001b[0;32mIn[1], line 1\u001b[0m\n\u001b[0;32m----> 1\u001b[0m \u001b[43mcatalog\u001b[49m\n",
      "\u001b[0;31mNameError\u001b[0m: name 'catalog' is not defined"
     ]
    }
   ],
   "source": [
    "catalog"
   ]
  },
  {
   "cell_type": "code",
   "execution_count": null,
   "id": "61bc499d-d406-4bc6-9e67-c5b0c02b3f09",
   "metadata": {},
   "outputs": [],
   "source": []
  }
 ],
 "metadata": {
  "kernelspec": {
   "display_name": "stac_work",
   "language": "python",
   "name": "stac_work"
  },
  "language_info": {
   "codemirror_mode": {
    "name": "ipython",
    "version": 3
   },
   "file_extension": ".py",
   "mimetype": "text/x-python",
   "name": "python",
   "nbconvert_exporter": "python",
   "pygments_lexer": "ipython3",
   "version": "3.11.0"
  }
 },
 "nbformat": 4,
 "nbformat_minor": 5
}
